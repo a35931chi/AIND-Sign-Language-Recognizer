{
 "cells": [
  {
   "cell_type": "markdown",
   "metadata": {
    "collapsed": true
   },
   "source": [
    "# Artificial Intelligence Engineer Nanodegree - Probabilistic Models\n",
    "## Project: Sign Language Recognition System\n",
    "- [Introduction](#intro)\n",
    "- [Part 1 Feature Selection](#part1_tutorial)\n",
    "    - [Tutorial](#part1_tutorial)\n",
    "    - [Features Submission](#part1_submission)\n",
    "    - [Features Unittest](#part1_test)\n",
    "- [Part 2 Train the models](#part2_tutorial)\n",
    "    - [Tutorial](#part2_tutorial)\n",
    "    - [Model Selection Score Submission](#part2_submission)\n",
    "    - [Model Score Unittest](#part2_test)\n",
    "- [Part 3 Build a Recognizer](#part3_tutorial)\n",
    "    - [Tutorial](#part3_tutorial)\n",
    "    - [Recognizer Submission](#part3_submission)\n",
    "    - [Recognizer Unittest](#part3_test)\n",
    "- [Part 4 (OPTIONAL) Improve the WER with Language Models](#part4_info)"
   ]
  },
  {
   "cell_type": "markdown",
   "metadata": {},
   "source": [
    "<a id='intro'></a>\n",
    "## Introduction\n",
    "The overall goal of this project is to build a word recognizer for American Sign Language video sequences, demonstrating the power of probabalistic models.  In particular, this project employs  [hidden Markov models (HMM's)](https://en.wikipedia.org/wiki/Hidden_Markov_model) to analyze a series of measurements taken from videos of American Sign Language (ASL) collected for research (see the [RWTH-BOSTON-104 Database](http://www-i6.informatik.rwth-aachen.de/~dreuw/database-rwth-boston-104.php)).  In this video, the right-hand x and y locations are plotted as the speaker signs the sentence.\n",
    "[![ASLR demo](http://www-i6.informatik.rwth-aachen.de/~dreuw/images/demosample.png)](https://drive.google.com/open?id=0B_5qGuFe-wbhUXRuVnNZVnMtam8)\n",
    "\n",
    "The raw data, train, and test sets are pre-defined.  You will derive a variety of feature sets (explored in Part 1), as well as implement three different model selection criterion to determine the optimal number of hidden states for each word model (explored in Part 2). Finally, in Part 3 you will implement the recognizer and compare the effects the different combinations of feature sets and model selection criteria.  \n",
    "\n",
    "At the end of each Part, complete the submission cells with implementations, answer all questions, and pass the unit tests.  Then submit the completed notebook for review!"
   ]
  },
  {
   "cell_type": "markdown",
   "metadata": {},
   "source": [
    "<a id='part1_tutorial'></a>\n",
    "## PART 1: Data\n",
    "\n",
    "### Features Tutorial\n",
    "##### Load the initial database\n",
    "A data handler designed for this database is provided in the student codebase as the `AslDb` class in the `asl_data` module.  This handler creates the initial [pandas](http://pandas.pydata.org/pandas-docs/stable/) dataframe from the corpus of data included in the `data` directory as well as dictionaries suitable for extracting data in a format friendly to the [hmmlearn](https://hmmlearn.readthedocs.io/en/latest/) library.  We'll use those to create models in Part 2.\n",
    "\n",
    "To start, let's set up the initial database and select an example set of features for the training set.  At the end of Part 1, you will create additional feature sets for experimentation. "
   ]
  },
  {
   "cell_type": "code",
   "execution_count": 1,
   "metadata": {},
   "outputs": [
    {
     "data": {
      "text/html": [
       "<div>\n",
       "<table border=\"1\" class=\"dataframe\">\n",
       "  <thead>\n",
       "    <tr style=\"text-align: right;\">\n",
       "      <th></th>\n",
       "      <th></th>\n",
       "      <th>left-x</th>\n",
       "      <th>left-y</th>\n",
       "      <th>right-x</th>\n",
       "      <th>right-y</th>\n",
       "      <th>nose-x</th>\n",
       "      <th>nose-y</th>\n",
       "      <th>speaker</th>\n",
       "    </tr>\n",
       "    <tr>\n",
       "      <th>video</th>\n",
       "      <th>frame</th>\n",
       "      <th></th>\n",
       "      <th></th>\n",
       "      <th></th>\n",
       "      <th></th>\n",
       "      <th></th>\n",
       "      <th></th>\n",
       "      <th></th>\n",
       "    </tr>\n",
       "  </thead>\n",
       "  <tbody>\n",
       "    <tr>\n",
       "      <th rowspan=\"20\" valign=\"top\">98</th>\n",
       "      <th>0</th>\n",
       "      <td>149</td>\n",
       "      <td>181</td>\n",
       "      <td>170</td>\n",
       "      <td>175</td>\n",
       "      <td>161</td>\n",
       "      <td>62</td>\n",
       "      <td>woman-1</td>\n",
       "    </tr>\n",
       "    <tr>\n",
       "      <th>1</th>\n",
       "      <td>149</td>\n",
       "      <td>181</td>\n",
       "      <td>170</td>\n",
       "      <td>175</td>\n",
       "      <td>161</td>\n",
       "      <td>62</td>\n",
       "      <td>woman-1</td>\n",
       "    </tr>\n",
       "    <tr>\n",
       "      <th>2</th>\n",
       "      <td>149</td>\n",
       "      <td>181</td>\n",
       "      <td>170</td>\n",
       "      <td>175</td>\n",
       "      <td>161</td>\n",
       "      <td>62</td>\n",
       "      <td>woman-1</td>\n",
       "    </tr>\n",
       "    <tr>\n",
       "      <th>3</th>\n",
       "      <td>149</td>\n",
       "      <td>181</td>\n",
       "      <td>170</td>\n",
       "      <td>175</td>\n",
       "      <td>161</td>\n",
       "      <td>62</td>\n",
       "      <td>woman-1</td>\n",
       "    </tr>\n",
       "    <tr>\n",
       "      <th>4</th>\n",
       "      <td>149</td>\n",
       "      <td>181</td>\n",
       "      <td>170</td>\n",
       "      <td>175</td>\n",
       "      <td>161</td>\n",
       "      <td>62</td>\n",
       "      <td>woman-1</td>\n",
       "    </tr>\n",
       "    <tr>\n",
       "      <th>5</th>\n",
       "      <td>149</td>\n",
       "      <td>181</td>\n",
       "      <td>170</td>\n",
       "      <td>175</td>\n",
       "      <td>161</td>\n",
       "      <td>62</td>\n",
       "      <td>woman-1</td>\n",
       "    </tr>\n",
       "    <tr>\n",
       "      <th>6</th>\n",
       "      <td>149</td>\n",
       "      <td>181</td>\n",
       "      <td>170</td>\n",
       "      <td>175</td>\n",
       "      <td>161</td>\n",
       "      <td>62</td>\n",
       "      <td>woman-1</td>\n",
       "    </tr>\n",
       "    <tr>\n",
       "      <th>7</th>\n",
       "      <td>149</td>\n",
       "      <td>181</td>\n",
       "      <td>170</td>\n",
       "      <td>175</td>\n",
       "      <td>161</td>\n",
       "      <td>62</td>\n",
       "      <td>woman-1</td>\n",
       "    </tr>\n",
       "    <tr>\n",
       "      <th>8</th>\n",
       "      <td>149</td>\n",
       "      <td>181</td>\n",
       "      <td>170</td>\n",
       "      <td>175</td>\n",
       "      <td>161</td>\n",
       "      <td>62</td>\n",
       "      <td>woman-1</td>\n",
       "    </tr>\n",
       "    <tr>\n",
       "      <th>9</th>\n",
       "      <td>149</td>\n",
       "      <td>181</td>\n",
       "      <td>170</td>\n",
       "      <td>175</td>\n",
       "      <td>161</td>\n",
       "      <td>62</td>\n",
       "      <td>woman-1</td>\n",
       "    </tr>\n",
       "    <tr>\n",
       "      <th>10</th>\n",
       "      <td>149</td>\n",
       "      <td>181</td>\n",
       "      <td>170</td>\n",
       "      <td>175</td>\n",
       "      <td>161</td>\n",
       "      <td>62</td>\n",
       "      <td>woman-1</td>\n",
       "    </tr>\n",
       "    <tr>\n",
       "      <th>11</th>\n",
       "      <td>149</td>\n",
       "      <td>181</td>\n",
       "      <td>169</td>\n",
       "      <td>173</td>\n",
       "      <td>161</td>\n",
       "      <td>62</td>\n",
       "      <td>woman-1</td>\n",
       "    </tr>\n",
       "    <tr>\n",
       "      <th>12</th>\n",
       "      <td>149</td>\n",
       "      <td>181</td>\n",
       "      <td>167</td>\n",
       "      <td>165</td>\n",
       "      <td>161</td>\n",
       "      <td>62</td>\n",
       "      <td>woman-1</td>\n",
       "    </tr>\n",
       "    <tr>\n",
       "      <th>13</th>\n",
       "      <td>149</td>\n",
       "      <td>181</td>\n",
       "      <td>166</td>\n",
       "      <td>160</td>\n",
       "      <td>161</td>\n",
       "      <td>62</td>\n",
       "      <td>woman-1</td>\n",
       "    </tr>\n",
       "    <tr>\n",
       "      <th>14</th>\n",
       "      <td>149</td>\n",
       "      <td>181</td>\n",
       "      <td>164</td>\n",
       "      <td>149</td>\n",
       "      <td>161</td>\n",
       "      <td>62</td>\n",
       "      <td>woman-1</td>\n",
       "    </tr>\n",
       "    <tr>\n",
       "      <th>15</th>\n",
       "      <td>149</td>\n",
       "      <td>181</td>\n",
       "      <td>158</td>\n",
       "      <td>133</td>\n",
       "      <td>161</td>\n",
       "      <td>62</td>\n",
       "      <td>woman-1</td>\n",
       "    </tr>\n",
       "    <tr>\n",
       "      <th>16</th>\n",
       "      <td>149</td>\n",
       "      <td>181</td>\n",
       "      <td>153</td>\n",
       "      <td>119</td>\n",
       "      <td>161</td>\n",
       "      <td>62</td>\n",
       "      <td>woman-1</td>\n",
       "    </tr>\n",
       "    <tr>\n",
       "      <th>17</th>\n",
       "      <td>149</td>\n",
       "      <td>181</td>\n",
       "      <td>140</td>\n",
       "      <td>109</td>\n",
       "      <td>161</td>\n",
       "      <td>62</td>\n",
       "      <td>woman-1</td>\n",
       "    </tr>\n",
       "    <tr>\n",
       "      <th>18</th>\n",
       "      <td>149</td>\n",
       "      <td>181</td>\n",
       "      <td>126</td>\n",
       "      <td>100</td>\n",
       "      <td>163</td>\n",
       "      <td>58</td>\n",
       "      <td>woman-1</td>\n",
       "    </tr>\n",
       "    <tr>\n",
       "      <th>19</th>\n",
       "      <td>149</td>\n",
       "      <td>181</td>\n",
       "      <td>114</td>\n",
       "      <td>94</td>\n",
       "      <td>163</td>\n",
       "      <td>58</td>\n",
       "      <td>woman-1</td>\n",
       "    </tr>\n",
       "  </tbody>\n",
       "</table>\n",
       "</div>"
      ],
      "text/plain": [
       "             left-x  left-y  right-x  right-y  nose-x  nose-y  speaker\n",
       "video frame                                                           \n",
       "98    0         149     181      170      175     161      62  woman-1\n",
       "      1         149     181      170      175     161      62  woman-1\n",
       "      2         149     181      170      175     161      62  woman-1\n",
       "      3         149     181      170      175     161      62  woman-1\n",
       "      4         149     181      170      175     161      62  woman-1\n",
       "      5         149     181      170      175     161      62  woman-1\n",
       "      6         149     181      170      175     161      62  woman-1\n",
       "      7         149     181      170      175     161      62  woman-1\n",
       "      8         149     181      170      175     161      62  woman-1\n",
       "      9         149     181      170      175     161      62  woman-1\n",
       "      10        149     181      170      175     161      62  woman-1\n",
       "      11        149     181      169      173     161      62  woman-1\n",
       "      12        149     181      167      165     161      62  woman-1\n",
       "      13        149     181      166      160     161      62  woman-1\n",
       "      14        149     181      164      149     161      62  woman-1\n",
       "      15        149     181      158      133     161      62  woman-1\n",
       "      16        149     181      153      119     161      62  woman-1\n",
       "      17        149     181      140      109     161      62  woman-1\n",
       "      18        149     181      126      100     163      58  woman-1\n",
       "      19        149     181      114       94     163      58  woman-1"
      ]
     },
     "execution_count": 1,
     "metadata": {},
     "output_type": "execute_result"
    }
   ],
   "source": [
    "import numpy as np\n",
    "import pandas as pd\n",
    "from asl_data import AslDb\n",
    "\n",
    "\n",
    "asl = AslDb() # initializes the database\n",
    "asl.df.head(20) # displays the first five rows of the asl database, indexed by video and frame"
   ]
  },
  {
   "cell_type": "code",
   "execution_count": 2,
   "metadata": {},
   "outputs": [
    {
     "data": {
      "text/plain": [
       "left-x         149\n",
       "left-y         181\n",
       "right-x        170\n",
       "right-y        175\n",
       "nose-x         161\n",
       "nose-y          62\n",
       "speaker    woman-1\n",
       "Name: (98, 1), dtype: object"
      ]
     },
     "execution_count": 2,
     "metadata": {},
     "output_type": "execute_result"
    }
   ],
   "source": [
    "asl.df.ix[98,1]  # look at the data available for an individual frame"
   ]
  },
  {
   "cell_type": "markdown",
   "metadata": {},
   "source": [
    "The frame represented by video 98, frame 1 is shown here:\n",
    "![Video 98](http://www-i6.informatik.rwth-aachen.de/~dreuw/database/rwth-boston-104/overview/images/orig/098-start.jpg)"
   ]
  },
  {
   "cell_type": "markdown",
   "metadata": {},
   "source": [
    "##### Feature selection for training the model\n",
    "The objective of feature selection when training a model is to choose the most relevant variables while keeping the model as simple as possible, thus reducing training time.  We can use the raw features already provided or derive our own and add columns to the pandas dataframe `asl.df` for selection. As an example, in the next cell a feature named `'grnd-ry'` is added. This feature is the difference between the right-hand y value and the nose y value, which serves as the \"ground\" right y value. "
   ]
  },
  {
   "cell_type": "code",
   "execution_count": 3,
   "metadata": {},
   "outputs": [
    {
     "data": {
      "text/html": [
       "<div>\n",
       "<table border=\"1\" class=\"dataframe\">\n",
       "  <thead>\n",
       "    <tr style=\"text-align: right;\">\n",
       "      <th></th>\n",
       "      <th></th>\n",
       "      <th>left-x</th>\n",
       "      <th>left-y</th>\n",
       "      <th>right-x</th>\n",
       "      <th>right-y</th>\n",
       "      <th>nose-x</th>\n",
       "      <th>nose-y</th>\n",
       "      <th>speaker</th>\n",
       "      <th>grnd-ry</th>\n",
       "    </tr>\n",
       "    <tr>\n",
       "      <th>video</th>\n",
       "      <th>frame</th>\n",
       "      <th></th>\n",
       "      <th></th>\n",
       "      <th></th>\n",
       "      <th></th>\n",
       "      <th></th>\n",
       "      <th></th>\n",
       "      <th></th>\n",
       "      <th></th>\n",
       "    </tr>\n",
       "  </thead>\n",
       "  <tbody>\n",
       "    <tr>\n",
       "      <th rowspan=\"20\" valign=\"top\">98</th>\n",
       "      <th>0</th>\n",
       "      <td>149</td>\n",
       "      <td>181</td>\n",
       "      <td>170</td>\n",
       "      <td>175</td>\n",
       "      <td>161</td>\n",
       "      <td>62</td>\n",
       "      <td>woman-1</td>\n",
       "      <td>113</td>\n",
       "    </tr>\n",
       "    <tr>\n",
       "      <th>1</th>\n",
       "      <td>149</td>\n",
       "      <td>181</td>\n",
       "      <td>170</td>\n",
       "      <td>175</td>\n",
       "      <td>161</td>\n",
       "      <td>62</td>\n",
       "      <td>woman-1</td>\n",
       "      <td>113</td>\n",
       "    </tr>\n",
       "    <tr>\n",
       "      <th>2</th>\n",
       "      <td>149</td>\n",
       "      <td>181</td>\n",
       "      <td>170</td>\n",
       "      <td>175</td>\n",
       "      <td>161</td>\n",
       "      <td>62</td>\n",
       "      <td>woman-1</td>\n",
       "      <td>113</td>\n",
       "    </tr>\n",
       "    <tr>\n",
       "      <th>3</th>\n",
       "      <td>149</td>\n",
       "      <td>181</td>\n",
       "      <td>170</td>\n",
       "      <td>175</td>\n",
       "      <td>161</td>\n",
       "      <td>62</td>\n",
       "      <td>woman-1</td>\n",
       "      <td>113</td>\n",
       "    </tr>\n",
       "    <tr>\n",
       "      <th>4</th>\n",
       "      <td>149</td>\n",
       "      <td>181</td>\n",
       "      <td>170</td>\n",
       "      <td>175</td>\n",
       "      <td>161</td>\n",
       "      <td>62</td>\n",
       "      <td>woman-1</td>\n",
       "      <td>113</td>\n",
       "    </tr>\n",
       "    <tr>\n",
       "      <th>5</th>\n",
       "      <td>149</td>\n",
       "      <td>181</td>\n",
       "      <td>170</td>\n",
       "      <td>175</td>\n",
       "      <td>161</td>\n",
       "      <td>62</td>\n",
       "      <td>woman-1</td>\n",
       "      <td>113</td>\n",
       "    </tr>\n",
       "    <tr>\n",
       "      <th>6</th>\n",
       "      <td>149</td>\n",
       "      <td>181</td>\n",
       "      <td>170</td>\n",
       "      <td>175</td>\n",
       "      <td>161</td>\n",
       "      <td>62</td>\n",
       "      <td>woman-1</td>\n",
       "      <td>113</td>\n",
       "    </tr>\n",
       "    <tr>\n",
       "      <th>7</th>\n",
       "      <td>149</td>\n",
       "      <td>181</td>\n",
       "      <td>170</td>\n",
       "      <td>175</td>\n",
       "      <td>161</td>\n",
       "      <td>62</td>\n",
       "      <td>woman-1</td>\n",
       "      <td>113</td>\n",
       "    </tr>\n",
       "    <tr>\n",
       "      <th>8</th>\n",
       "      <td>149</td>\n",
       "      <td>181</td>\n",
       "      <td>170</td>\n",
       "      <td>175</td>\n",
       "      <td>161</td>\n",
       "      <td>62</td>\n",
       "      <td>woman-1</td>\n",
       "      <td>113</td>\n",
       "    </tr>\n",
       "    <tr>\n",
       "      <th>9</th>\n",
       "      <td>149</td>\n",
       "      <td>181</td>\n",
       "      <td>170</td>\n",
       "      <td>175</td>\n",
       "      <td>161</td>\n",
       "      <td>62</td>\n",
       "      <td>woman-1</td>\n",
       "      <td>113</td>\n",
       "    </tr>\n",
       "    <tr>\n",
       "      <th>10</th>\n",
       "      <td>149</td>\n",
       "      <td>181</td>\n",
       "      <td>170</td>\n",
       "      <td>175</td>\n",
       "      <td>161</td>\n",
       "      <td>62</td>\n",
       "      <td>woman-1</td>\n",
       "      <td>113</td>\n",
       "    </tr>\n",
       "    <tr>\n",
       "      <th>11</th>\n",
       "      <td>149</td>\n",
       "      <td>181</td>\n",
       "      <td>169</td>\n",
       "      <td>173</td>\n",
       "      <td>161</td>\n",
       "      <td>62</td>\n",
       "      <td>woman-1</td>\n",
       "      <td>111</td>\n",
       "    </tr>\n",
       "    <tr>\n",
       "      <th>12</th>\n",
       "      <td>149</td>\n",
       "      <td>181</td>\n",
       "      <td>167</td>\n",
       "      <td>165</td>\n",
       "      <td>161</td>\n",
       "      <td>62</td>\n",
       "      <td>woman-1</td>\n",
       "      <td>103</td>\n",
       "    </tr>\n",
       "    <tr>\n",
       "      <th>13</th>\n",
       "      <td>149</td>\n",
       "      <td>181</td>\n",
       "      <td>166</td>\n",
       "      <td>160</td>\n",
       "      <td>161</td>\n",
       "      <td>62</td>\n",
       "      <td>woman-1</td>\n",
       "      <td>98</td>\n",
       "    </tr>\n",
       "    <tr>\n",
       "      <th>14</th>\n",
       "      <td>149</td>\n",
       "      <td>181</td>\n",
       "      <td>164</td>\n",
       "      <td>149</td>\n",
       "      <td>161</td>\n",
       "      <td>62</td>\n",
       "      <td>woman-1</td>\n",
       "      <td>87</td>\n",
       "    </tr>\n",
       "    <tr>\n",
       "      <th>15</th>\n",
       "      <td>149</td>\n",
       "      <td>181</td>\n",
       "      <td>158</td>\n",
       "      <td>133</td>\n",
       "      <td>161</td>\n",
       "      <td>62</td>\n",
       "      <td>woman-1</td>\n",
       "      <td>71</td>\n",
       "    </tr>\n",
       "    <tr>\n",
       "      <th>16</th>\n",
       "      <td>149</td>\n",
       "      <td>181</td>\n",
       "      <td>153</td>\n",
       "      <td>119</td>\n",
       "      <td>161</td>\n",
       "      <td>62</td>\n",
       "      <td>woman-1</td>\n",
       "      <td>57</td>\n",
       "    </tr>\n",
       "    <tr>\n",
       "      <th>17</th>\n",
       "      <td>149</td>\n",
       "      <td>181</td>\n",
       "      <td>140</td>\n",
       "      <td>109</td>\n",
       "      <td>161</td>\n",
       "      <td>62</td>\n",
       "      <td>woman-1</td>\n",
       "      <td>47</td>\n",
       "    </tr>\n",
       "    <tr>\n",
       "      <th>18</th>\n",
       "      <td>149</td>\n",
       "      <td>181</td>\n",
       "      <td>126</td>\n",
       "      <td>100</td>\n",
       "      <td>163</td>\n",
       "      <td>58</td>\n",
       "      <td>woman-1</td>\n",
       "      <td>42</td>\n",
       "    </tr>\n",
       "    <tr>\n",
       "      <th>19</th>\n",
       "      <td>149</td>\n",
       "      <td>181</td>\n",
       "      <td>114</td>\n",
       "      <td>94</td>\n",
       "      <td>163</td>\n",
       "      <td>58</td>\n",
       "      <td>woman-1</td>\n",
       "      <td>36</td>\n",
       "    </tr>\n",
       "  </tbody>\n",
       "</table>\n",
       "</div>"
      ],
      "text/plain": [
       "             left-x  left-y  right-x  right-y  nose-x  nose-y  speaker  \\\n",
       "video frame                                                              \n",
       "98    0         149     181      170      175     161      62  woman-1   \n",
       "      1         149     181      170      175     161      62  woman-1   \n",
       "      2         149     181      170      175     161      62  woman-1   \n",
       "      3         149     181      170      175     161      62  woman-1   \n",
       "      4         149     181      170      175     161      62  woman-1   \n",
       "      5         149     181      170      175     161      62  woman-1   \n",
       "      6         149     181      170      175     161      62  woman-1   \n",
       "      7         149     181      170      175     161      62  woman-1   \n",
       "      8         149     181      170      175     161      62  woman-1   \n",
       "      9         149     181      170      175     161      62  woman-1   \n",
       "      10        149     181      170      175     161      62  woman-1   \n",
       "      11        149     181      169      173     161      62  woman-1   \n",
       "      12        149     181      167      165     161      62  woman-1   \n",
       "      13        149     181      166      160     161      62  woman-1   \n",
       "      14        149     181      164      149     161      62  woman-1   \n",
       "      15        149     181      158      133     161      62  woman-1   \n",
       "      16        149     181      153      119     161      62  woman-1   \n",
       "      17        149     181      140      109     161      62  woman-1   \n",
       "      18        149     181      126      100     163      58  woman-1   \n",
       "      19        149     181      114       94     163      58  woman-1   \n",
       "\n",
       "             grnd-ry  \n",
       "video frame           \n",
       "98    0          113  \n",
       "      1          113  \n",
       "      2          113  \n",
       "      3          113  \n",
       "      4          113  \n",
       "      5          113  \n",
       "      6          113  \n",
       "      7          113  \n",
       "      8          113  \n",
       "      9          113  \n",
       "      10         113  \n",
       "      11         111  \n",
       "      12         103  \n",
       "      13          98  \n",
       "      14          87  \n",
       "      15          71  \n",
       "      16          57  \n",
       "      17          47  \n",
       "      18          42  \n",
       "      19          36  "
      ]
     },
     "execution_count": 3,
     "metadata": {},
     "output_type": "execute_result"
    }
   ],
   "source": [
    "asl.df['grnd-ry'] = asl.df['right-y'] - asl.df['nose-y']\n",
    "asl.df.head(20)  # the new feature 'grnd-ry' is now in the frames dictionary"
   ]
  },
  {
   "cell_type": "markdown",
   "metadata": {},
   "source": [
    "##### Try it!"
   ]
  },
  {
   "cell_type": "code",
   "execution_count": 4,
   "metadata": {},
   "outputs": [
    {
     "name": "stdout",
     "output_type": "stream",
     "text": [
      "asl.df sample\n"
     ]
    },
    {
     "data": {
      "text/html": [
       "<div>\n",
       "<table border=\"1\" class=\"dataframe\">\n",
       "  <thead>\n",
       "    <tr style=\"text-align: right;\">\n",
       "      <th></th>\n",
       "      <th></th>\n",
       "      <th>left-x</th>\n",
       "      <th>left-y</th>\n",
       "      <th>right-x</th>\n",
       "      <th>right-y</th>\n",
       "      <th>nose-x</th>\n",
       "      <th>nose-y</th>\n",
       "      <th>speaker</th>\n",
       "      <th>grnd-ry</th>\n",
       "      <th>grnd-rx</th>\n",
       "      <th>grnd-lx</th>\n",
       "      <th>grnd-ly</th>\n",
       "    </tr>\n",
       "    <tr>\n",
       "      <th>video</th>\n",
       "      <th>frame</th>\n",
       "      <th></th>\n",
       "      <th></th>\n",
       "      <th></th>\n",
       "      <th></th>\n",
       "      <th></th>\n",
       "      <th></th>\n",
       "      <th></th>\n",
       "      <th></th>\n",
       "      <th></th>\n",
       "      <th></th>\n",
       "      <th></th>\n",
       "    </tr>\n",
       "  </thead>\n",
       "  <tbody>\n",
       "    <tr>\n",
       "      <th rowspan=\"5\" valign=\"top\">98</th>\n",
       "      <th>0</th>\n",
       "      <td>149</td>\n",
       "      <td>181</td>\n",
       "      <td>170</td>\n",
       "      <td>175</td>\n",
       "      <td>161</td>\n",
       "      <td>62</td>\n",
       "      <td>woman-1</td>\n",
       "      <td>113</td>\n",
       "      <td>9</td>\n",
       "      <td>-12</td>\n",
       "      <td>119</td>\n",
       "    </tr>\n",
       "    <tr>\n",
       "      <th>1</th>\n",
       "      <td>149</td>\n",
       "      <td>181</td>\n",
       "      <td>170</td>\n",
       "      <td>175</td>\n",
       "      <td>161</td>\n",
       "      <td>62</td>\n",
       "      <td>woman-1</td>\n",
       "      <td>113</td>\n",
       "      <td>9</td>\n",
       "      <td>-12</td>\n",
       "      <td>119</td>\n",
       "    </tr>\n",
       "    <tr>\n",
       "      <th>2</th>\n",
       "      <td>149</td>\n",
       "      <td>181</td>\n",
       "      <td>170</td>\n",
       "      <td>175</td>\n",
       "      <td>161</td>\n",
       "      <td>62</td>\n",
       "      <td>woman-1</td>\n",
       "      <td>113</td>\n",
       "      <td>9</td>\n",
       "      <td>-12</td>\n",
       "      <td>119</td>\n",
       "    </tr>\n",
       "    <tr>\n",
       "      <th>3</th>\n",
       "      <td>149</td>\n",
       "      <td>181</td>\n",
       "      <td>170</td>\n",
       "      <td>175</td>\n",
       "      <td>161</td>\n",
       "      <td>62</td>\n",
       "      <td>woman-1</td>\n",
       "      <td>113</td>\n",
       "      <td>9</td>\n",
       "      <td>-12</td>\n",
       "      <td>119</td>\n",
       "    </tr>\n",
       "    <tr>\n",
       "      <th>4</th>\n",
       "      <td>149</td>\n",
       "      <td>181</td>\n",
       "      <td>170</td>\n",
       "      <td>175</td>\n",
       "      <td>161</td>\n",
       "      <td>62</td>\n",
       "      <td>woman-1</td>\n",
       "      <td>113</td>\n",
       "      <td>9</td>\n",
       "      <td>-12</td>\n",
       "      <td>119</td>\n",
       "    </tr>\n",
       "  </tbody>\n",
       "</table>\n",
       "</div>"
      ],
      "text/plain": [
       "             left-x  left-y  right-x  right-y  nose-x  nose-y  speaker  \\\n",
       "video frame                                                              \n",
       "98    0         149     181      170      175     161      62  woman-1   \n",
       "      1         149     181      170      175     161      62  woman-1   \n",
       "      2         149     181      170      175     161      62  woman-1   \n",
       "      3         149     181      170      175     161      62  woman-1   \n",
       "      4         149     181      170      175     161      62  woman-1   \n",
       "\n",
       "             grnd-ry  grnd-rx  grnd-lx  grnd-ly  \n",
       "video frame                                      \n",
       "98    0          113        9      -12      119  \n",
       "      1          113        9      -12      119  \n",
       "      2          113        9      -12      119  \n",
       "      3          113        9      -12      119  \n",
       "      4          113        9      -12      119  "
      ]
     },
     "metadata": {},
     "output_type": "display_data"
    },
    {
     "data": {
      "text/html": [
       "<font color=green>Correct!</font><br/>"
      ],
      "text/plain": [
       "<IPython.core.display.HTML object>"
      ]
     },
     "execution_count": 4,
     "metadata": {},
     "output_type": "execute_result"
    }
   ],
   "source": [
    "from asl_utils import test_features_tryit\n",
    "# TODO add df columns for 'grnd-rx', 'grnd-ly', 'grnd-lx' representing differences between hand and nose locations, both hands\n",
    "asl.df['grnd-rx'] = asl.df['right-x'] - asl.df['nose-x']\n",
    "asl.df['grnd-ry'] = asl.df['right-y'] - asl.df['nose-y']\n",
    "asl.df['grnd-lx'] = asl.df['left-x'] - asl.df['nose-x']\n",
    "asl.df['grnd-ly'] = asl.df['left-y'] - asl.df['nose-y']\n",
    "# test the code\n",
    "test_features_tryit(asl)"
   ]
  },
  {
   "cell_type": "code",
   "execution_count": 5,
   "metadata": {},
   "outputs": [
    {
     "data": {
      "text/plain": [
       "[9, 113, -12, 119]"
      ]
     },
     "execution_count": 5,
     "metadata": {},
     "output_type": "execute_result"
    }
   ],
   "source": [
    "# collect the features into a list\n",
    "features_ground = ['grnd-rx','grnd-ry','grnd-lx','grnd-ly']\n",
    " #show a single set of features for a given (video, frame) tuple\n",
    "[asl.df.ix[98,1][v] for v in features_ground]"
   ]
  },
  {
   "cell_type": "markdown",
   "metadata": {},
   "source": [
    "##### Build the training set\n",
    "Now that we have a feature list defined, we can pass that list to the `build_training` method to collect the features for all the words in the training set.  Each word in the training set has multiple examples from various videos.  Below we can see the unique words that have been loaded into the training set:"
   ]
  },
  {
   "cell_type": "code",
   "execution_count": 6,
   "metadata": {},
   "outputs": [
    {
     "name": "stdout",
     "output_type": "stream",
     "text": [
      "Training words: ['LIVE', 'VEGETABLE', 'HOMEWORK', 'SEARCH-FOR', 'FINISH', 'ALL', 'PAST', 'SHOULD', 'WONT', 'GIVE1', 'WRITE', 'FRANK', 'THROW', 'WANT', 'JANA', 'DECIDE', 'FRIEND', 'APPLE', 'GROUP', 'BROCCOLI', 'SAY', 'SHOOT', 'STOLEN', 'HAVE', 'PUTASIDE', 'BOY', 'FRED', 'WHAT', 'PARTY', 'MOTHER', 'GO1', 'LEG', 'READ', 'CHINA', 'NAME', 'HOUSE', 'BILL', 'LEAVE', 'SUE', 'HIT', 'KNOW', 'MANY', 'FIND', 'BREAK-DOWN', 'BLAME', 'LAST-WEEK', 'WOMAN', 'CANDY', 'PREFER', 'BUY', 'BOX', 'NEXT-WEEK', 'GIVE3', 'PEOPLE', 'MOVIE', 'SEE', 'FISH', 'CHOCOLATE', 'FUTURE1', 'TELL', 'LIKE', 'CORN1', 'POTATO', 'LOVE', 'GIRL', 'NEW', 'IX', 'JOHN', 'THINK', 'GO2', 'NOT', 'BUT', 'WILL', 'MARY', 'POSS', 'SAY-1P', 'ANN', 'CHICKEN', 'GET', 'FUTURE', 'SOMETHING-ONE', 'BOOK', 'IX-1P', 'NEW-YORK', 'TOMORROW', 'TOY', 'CORN', 'VISIT', 'YESTERDAY', 'OLD', 'SELL', 'GIVE2', 'CHICAGO', 'ARRIVE', 'MAN', 'CAR', 'BUY1', 'HERE', 'COAT', 'STUDENT', 'BORROW', 'BLUE', 'BROTHER', 'GIVE', 'TEACHER', 'TOY1', 'WHO', 'GO', 'SELF', 'VIDEOTAPE', 'CAN', 'EAT']\n",
      "112\n",
      "<class 'asl_data.WordsData'>\n"
     ]
    }
   ],
   "source": [
    "training = asl.build_training(features_ground)\n",
    "print(\"Training words: {}\".format(training.words)) #all the training words\n",
    "print(len(training.words)) #112 words in training in total\n",
    "print(type(training))"
   ]
  },
  {
   "cell_type": "markdown",
   "metadata": {},
   "source": [
    "The training data in `training` is an object of class `WordsData` defined in the `asl_data` module.  in addition to the `words` list, data can be accessed with the `get_all_sequences`, `get_all_Xlengths`, `get_word_sequences`, and `get_word_Xlengths` methods. We need the `get_word_Xlengths` method to train multiple sequences with the `hmmlearn` library.  In the following example, notice that there are two lists; the first is a concatenation of all the sequences(the X portion) and the second is a list of the sequence lengths(the Lengths portion)."
   ]
  },
  {
   "cell_type": "code",
   "execution_count": 7,
   "metadata": {},
   "outputs": [
    {
     "name": "stdout",
     "output_type": "stream",
     "text": [
      "[[[-11, 48, 7, 120], [-11, 48, 8, 109], [-8, 49, 11, 98], [-7, 50, 7, 87], [-4, 54, 7, 77], [-4, 54, 6, 69], [-4, 54, 6, 69], [-13, 52, 6, 69], [-13, 52, 6, 69], [-8, 51, 6, 69], [-8, 51, 6, 69], [-8, 51, 6, 69], [-8, 51, 6, 69], [-8, 51, 6, 69], [-10, 59, 7, 71], [-15, 64, 9, 77], [-17, 75, 13, 81]], [[-4, 48, -4, 113], [-2, 53, -4, 113], [-4, 55, 2, 98], [-4, 58, 2, 98], [-1, 59, 2, 89], [-1, 59, -1, 84], [-1, 59, -1, 84], [-7, 63, -1, 84], [-7, 63, -1, 84], [-7, 63, 3, 83], [-7, 63, 3, 83], [-7, 63, 3, 83], [-7, 63, 3, 83], [-7, 63, 3, 83], [-7, 63, 3, 83], [-7, 63, 3, 83], [-4, 70, 3, 83], [-4, 70, 3, 83], [-2, 73, 5, 90], [-3, 79, -4, 96]], [[-15, 98, 13, 135], [-6, 93, 12, 128], [-2, 89, 14, 118], [5, 90, 10, 108], [4, 86, 7, 105], [4, 86, 7, 105], [4, 86, 13, 100], [-3, 82, 14, 96], [-3, 82, 14, 96], [6, 89, 16, 100], [6, 89, 16, 100], [7, 85, 17, 111]]]\n",
      "3\n",
      "(array([[-11,  48,   7, 120],\n",
      "       [-11,  48,   8, 109],\n",
      "       [ -8,  49,  11,  98],\n",
      "       [ -7,  50,   7,  87],\n",
      "       [ -4,  54,   7,  77],\n",
      "       [ -4,  54,   6,  69],\n",
      "       [ -4,  54,   6,  69],\n",
      "       [-13,  52,   6,  69],\n",
      "       [-13,  52,   6,  69],\n",
      "       [ -8,  51,   6,  69],\n",
      "       [ -8,  51,   6,  69],\n",
      "       [ -8,  51,   6,  69],\n",
      "       [ -8,  51,   6,  69],\n",
      "       [ -8,  51,   6,  69],\n",
      "       [-10,  59,   7,  71],\n",
      "       [-15,  64,   9,  77],\n",
      "       [-17,  75,  13,  81],\n",
      "       [ -4,  48,  -4, 113],\n",
      "       [ -2,  53,  -4, 113],\n",
      "       [ -4,  55,   2,  98],\n",
      "       [ -4,  58,   2,  98],\n",
      "       [ -1,  59,   2,  89],\n",
      "       [ -1,  59,  -1,  84],\n",
      "       [ -1,  59,  -1,  84],\n",
      "       [ -7,  63,  -1,  84],\n",
      "       [ -7,  63,  -1,  84],\n",
      "       [ -7,  63,   3,  83],\n",
      "       [ -7,  63,   3,  83],\n",
      "       [ -7,  63,   3,  83],\n",
      "       [ -7,  63,   3,  83],\n",
      "       [ -7,  63,   3,  83],\n",
      "       [ -7,  63,   3,  83],\n",
      "       [ -7,  63,   3,  83],\n",
      "       [ -4,  70,   3,  83],\n",
      "       [ -4,  70,   3,  83],\n",
      "       [ -2,  73,   5,  90],\n",
      "       [ -3,  79,  -4,  96],\n",
      "       [-15,  98,  13, 135],\n",
      "       [ -6,  93,  12, 128],\n",
      "       [ -2,  89,  14, 118],\n",
      "       [  5,  90,  10, 108],\n",
      "       [  4,  86,   7, 105],\n",
      "       [  4,  86,   7, 105],\n",
      "       [  4,  86,  13, 100],\n",
      "       [ -3,  82,  14,  96],\n",
      "       [ -3,  82,  14,  96],\n",
      "       [  6,  89,  16, 100],\n",
      "       [  6,  89,  16, 100],\n",
      "       [  7,  85,  17, 111]], dtype=int64), [17, 20, 12])\n",
      "112\n",
      "112\n"
     ]
    }
   ],
   "source": [
    "print(training.get_word_sequences('CHOCOLATE')) #'CHOCOLATE'\n",
    "print(len(training.get_word_sequences('CHOCOLATE'))) # # of states for the word chocolate, 3\n",
    "print(training.get_word_Xlengths('CHOCOLATE')) # this is a tuple, where we different states are stated\n",
    "\n",
    "print(len(training.get_all_sequences())) #112 words\n",
    "print(len(training.get_all_Xlengths())) #112 words\n",
    "\n",
    "#get_all_sequences: getter for entire db of words as series of sequences of feature lists for each frame - returns a dict, _data\n",
    "#get_all_Xlengths: getter for entire db of items as (X, lengths) tuple for use with hmmlearn library - returns a dict, _hmm_data\n",
    "#get_word_sequences: getter for single word series of sequences of feature lists for each frame - returns a list, _data\n",
    "#get_word_Xlengths\" getter for single word (X, lengths) tuple for use with hmmlearn library - i think this is already split into the correct lengths, returns a tuple, _hmm_data"
   ]
  },
  {
   "cell_type": "markdown",
   "metadata": {},
   "source": [
    "###### More feature sets\n",
    "So far we have a simple feature set that is enough to get started modeling.  However, we might get better results if we manipulate the raw values a bit more, so we will go ahead and set up some other options now for experimentation later.  For example, we could normalize each speaker's range of motion with grouped statistics using [Pandas stats](http://pandas.pydata.org/pandas-docs/stable/api.html#api-dataframe-stats) functions and [pandas groupby](http://pandas.pydata.org/pandas-docs/stable/generated/pandas.DataFrame.groupby.html).  Below is an example for finding the means of all speaker subgroups."
   ]
  },
  {
   "cell_type": "code",
   "execution_count": 8,
   "metadata": {
    "scrolled": true
   },
   "outputs": [
    {
     "data": {
      "text/html": [
       "<div>\n",
       "<table border=\"1\" class=\"dataframe\">\n",
       "  <thead>\n",
       "    <tr style=\"text-align: right;\">\n",
       "      <th></th>\n",
       "      <th>left-x</th>\n",
       "      <th>left-y</th>\n",
       "      <th>right-x</th>\n",
       "      <th>right-y</th>\n",
       "      <th>nose-x</th>\n",
       "      <th>nose-y</th>\n",
       "      <th>grnd-ry</th>\n",
       "      <th>grnd-rx</th>\n",
       "      <th>grnd-lx</th>\n",
       "      <th>grnd-ly</th>\n",
       "    </tr>\n",
       "    <tr>\n",
       "      <th>speaker</th>\n",
       "      <th></th>\n",
       "      <th></th>\n",
       "      <th></th>\n",
       "      <th></th>\n",
       "      <th></th>\n",
       "      <th></th>\n",
       "      <th></th>\n",
       "      <th></th>\n",
       "      <th></th>\n",
       "      <th></th>\n",
       "    </tr>\n",
       "  </thead>\n",
       "  <tbody>\n",
       "    <tr>\n",
       "      <th>man-1</th>\n",
       "      <td>206.248203</td>\n",
       "      <td>218.679449</td>\n",
       "      <td>155.464350</td>\n",
       "      <td>150.371031</td>\n",
       "      <td>175.031756</td>\n",
       "      <td>61.642600</td>\n",
       "      <td>88.728430</td>\n",
       "      <td>-19.567406</td>\n",
       "      <td>31.216447</td>\n",
       "      <td>157.036848</td>\n",
       "    </tr>\n",
       "    <tr>\n",
       "      <th>woman-1</th>\n",
       "      <td>164.661438</td>\n",
       "      <td>161.271242</td>\n",
       "      <td>151.017865</td>\n",
       "      <td>117.332462</td>\n",
       "      <td>162.655120</td>\n",
       "      <td>57.245098</td>\n",
       "      <td>60.087364</td>\n",
       "      <td>-11.637255</td>\n",
       "      <td>2.006318</td>\n",
       "      <td>104.026144</td>\n",
       "    </tr>\n",
       "    <tr>\n",
       "      <th>woman-2</th>\n",
       "      <td>183.214509</td>\n",
       "      <td>176.527232</td>\n",
       "      <td>156.866295</td>\n",
       "      <td>119.835714</td>\n",
       "      <td>170.318973</td>\n",
       "      <td>58.022098</td>\n",
       "      <td>61.813616</td>\n",
       "      <td>-13.452679</td>\n",
       "      <td>12.895536</td>\n",
       "      <td>118.505134</td>\n",
       "    </tr>\n",
       "  </tbody>\n",
       "</table>\n",
       "</div>"
      ],
      "text/plain": [
       "             left-x      left-y     right-x     right-y      nose-x  \\\n",
       "speaker                                                               \n",
       "man-1    206.248203  218.679449  155.464350  150.371031  175.031756   \n",
       "woman-1  164.661438  161.271242  151.017865  117.332462  162.655120   \n",
       "woman-2  183.214509  176.527232  156.866295  119.835714  170.318973   \n",
       "\n",
       "            nose-y    grnd-ry    grnd-rx    grnd-lx     grnd-ly  \n",
       "speaker                                                          \n",
       "man-1    61.642600  88.728430 -19.567406  31.216447  157.036848  \n",
       "woman-1  57.245098  60.087364 -11.637255   2.006318  104.026144  \n",
       "woman-2  58.022098  61.813616 -13.452679  12.895536  118.505134  "
      ]
     },
     "execution_count": 8,
     "metadata": {},
     "output_type": "execute_result"
    }
   ],
   "source": [
    "df_means = asl.df.groupby('speaker').mean()\n",
    "df_means"
   ]
  },
  {
   "cell_type": "markdown",
   "metadata": {},
   "source": [
    "To select a mean that matches by speaker, use the pandas [map](http://pandas.pydata.org/pandas-docs/stable/generated/pandas.Series.map.html) method:"
   ]
  },
  {
   "cell_type": "code",
   "execution_count": 9,
   "metadata": {},
   "outputs": [
    {
     "data": {
      "text/html": [
       "<div>\n",
       "<table border=\"1\" class=\"dataframe\">\n",
       "  <thead>\n",
       "    <tr style=\"text-align: right;\">\n",
       "      <th></th>\n",
       "      <th></th>\n",
       "      <th>left-x</th>\n",
       "      <th>left-y</th>\n",
       "      <th>right-x</th>\n",
       "      <th>right-y</th>\n",
       "      <th>nose-x</th>\n",
       "      <th>nose-y</th>\n",
       "      <th>speaker</th>\n",
       "      <th>grnd-ry</th>\n",
       "      <th>grnd-rx</th>\n",
       "      <th>grnd-lx</th>\n",
       "      <th>grnd-ly</th>\n",
       "      <th>left-x-mean</th>\n",
       "    </tr>\n",
       "    <tr>\n",
       "      <th>video</th>\n",
       "      <th>frame</th>\n",
       "      <th></th>\n",
       "      <th></th>\n",
       "      <th></th>\n",
       "      <th></th>\n",
       "      <th></th>\n",
       "      <th></th>\n",
       "      <th></th>\n",
       "      <th></th>\n",
       "      <th></th>\n",
       "      <th></th>\n",
       "      <th></th>\n",
       "      <th></th>\n",
       "    </tr>\n",
       "  </thead>\n",
       "  <tbody>\n",
       "    <tr>\n",
       "      <th rowspan=\"5\" valign=\"top\">98</th>\n",
       "      <th>0</th>\n",
       "      <td>149</td>\n",
       "      <td>181</td>\n",
       "      <td>170</td>\n",
       "      <td>175</td>\n",
       "      <td>161</td>\n",
       "      <td>62</td>\n",
       "      <td>woman-1</td>\n",
       "      <td>113</td>\n",
       "      <td>9</td>\n",
       "      <td>-12</td>\n",
       "      <td>119</td>\n",
       "      <td>164.661438</td>\n",
       "    </tr>\n",
       "    <tr>\n",
       "      <th>1</th>\n",
       "      <td>149</td>\n",
       "      <td>181</td>\n",
       "      <td>170</td>\n",
       "      <td>175</td>\n",
       "      <td>161</td>\n",
       "      <td>62</td>\n",
       "      <td>woman-1</td>\n",
       "      <td>113</td>\n",
       "      <td>9</td>\n",
       "      <td>-12</td>\n",
       "      <td>119</td>\n",
       "      <td>164.661438</td>\n",
       "    </tr>\n",
       "    <tr>\n",
       "      <th>2</th>\n",
       "      <td>149</td>\n",
       "      <td>181</td>\n",
       "      <td>170</td>\n",
       "      <td>175</td>\n",
       "      <td>161</td>\n",
       "      <td>62</td>\n",
       "      <td>woman-1</td>\n",
       "      <td>113</td>\n",
       "      <td>9</td>\n",
       "      <td>-12</td>\n",
       "      <td>119</td>\n",
       "      <td>164.661438</td>\n",
       "    </tr>\n",
       "    <tr>\n",
       "      <th>3</th>\n",
       "      <td>149</td>\n",
       "      <td>181</td>\n",
       "      <td>170</td>\n",
       "      <td>175</td>\n",
       "      <td>161</td>\n",
       "      <td>62</td>\n",
       "      <td>woman-1</td>\n",
       "      <td>113</td>\n",
       "      <td>9</td>\n",
       "      <td>-12</td>\n",
       "      <td>119</td>\n",
       "      <td>164.661438</td>\n",
       "    </tr>\n",
       "    <tr>\n",
       "      <th>4</th>\n",
       "      <td>149</td>\n",
       "      <td>181</td>\n",
       "      <td>170</td>\n",
       "      <td>175</td>\n",
       "      <td>161</td>\n",
       "      <td>62</td>\n",
       "      <td>woman-1</td>\n",
       "      <td>113</td>\n",
       "      <td>9</td>\n",
       "      <td>-12</td>\n",
       "      <td>119</td>\n",
       "      <td>164.661438</td>\n",
       "    </tr>\n",
       "  </tbody>\n",
       "</table>\n",
       "</div>"
      ],
      "text/plain": [
       "             left-x  left-y  right-x  right-y  nose-x  nose-y  speaker  \\\n",
       "video frame                                                              \n",
       "98    0         149     181      170      175     161      62  woman-1   \n",
       "      1         149     181      170      175     161      62  woman-1   \n",
       "      2         149     181      170      175     161      62  woman-1   \n",
       "      3         149     181      170      175     161      62  woman-1   \n",
       "      4         149     181      170      175     161      62  woman-1   \n",
       "\n",
       "             grnd-ry  grnd-rx  grnd-lx  grnd-ly  left-x-mean  \n",
       "video frame                                                   \n",
       "98    0          113        9      -12      119   164.661438  \n",
       "      1          113        9      -12      119   164.661438  \n",
       "      2          113        9      -12      119   164.661438  \n",
       "      3          113        9      -12      119   164.661438  \n",
       "      4          113        9      -12      119   164.661438  "
      ]
     },
     "execution_count": 9,
     "metadata": {},
     "output_type": "execute_result"
    }
   ],
   "source": [
    "asl.df['left-x-mean']= asl.df['speaker'].map(df_means['left-x'])\n",
    "asl.df.head()"
   ]
  },
  {
   "cell_type": "markdown",
   "metadata": {},
   "source": [
    "##### Try it!"
   ]
  },
  {
   "cell_type": "code",
   "execution_count": 10,
   "metadata": {},
   "outputs": [
    {
     "name": "stdout",
     "output_type": "stream",
     "text": [
      "df_std\n"
     ]
    },
    {
     "data": {
      "text/html": [
       "<div>\n",
       "<table border=\"1\" class=\"dataframe\">\n",
       "  <thead>\n",
       "    <tr style=\"text-align: right;\">\n",
       "      <th></th>\n",
       "      <th>left-x</th>\n",
       "      <th>left-y</th>\n",
       "      <th>right-x</th>\n",
       "      <th>right-y</th>\n",
       "      <th>nose-x</th>\n",
       "      <th>nose-y</th>\n",
       "      <th>grnd-ry</th>\n",
       "      <th>grnd-rx</th>\n",
       "      <th>grnd-lx</th>\n",
       "      <th>grnd-ly</th>\n",
       "      <th>left-x-mean</th>\n",
       "    </tr>\n",
       "    <tr>\n",
       "      <th>speaker</th>\n",
       "      <th></th>\n",
       "      <th></th>\n",
       "      <th></th>\n",
       "      <th></th>\n",
       "      <th></th>\n",
       "      <th></th>\n",
       "      <th></th>\n",
       "      <th></th>\n",
       "      <th></th>\n",
       "      <th></th>\n",
       "      <th></th>\n",
       "    </tr>\n",
       "  </thead>\n",
       "  <tbody>\n",
       "    <tr>\n",
       "      <th>man-1</th>\n",
       "      <td>15.154425</td>\n",
       "      <td>36.328485</td>\n",
       "      <td>18.901917</td>\n",
       "      <td>54.902340</td>\n",
       "      <td>6.654573</td>\n",
       "      <td>5.520045</td>\n",
       "      <td>53.487999</td>\n",
       "      <td>20.269032</td>\n",
       "      <td>15.080360</td>\n",
       "      <td>36.572749</td>\n",
       "      <td>0.0</td>\n",
       "    </tr>\n",
       "    <tr>\n",
       "      <th>woman-1</th>\n",
       "      <td>17.573442</td>\n",
       "      <td>26.594521</td>\n",
       "      <td>16.459943</td>\n",
       "      <td>34.667787</td>\n",
       "      <td>3.549392</td>\n",
       "      <td>3.538330</td>\n",
       "      <td>33.972660</td>\n",
       "      <td>16.764706</td>\n",
       "      <td>17.328941</td>\n",
       "      <td>27.117393</td>\n",
       "      <td>0.0</td>\n",
       "    </tr>\n",
       "    <tr>\n",
       "      <th>woman-2</th>\n",
       "      <td>15.388711</td>\n",
       "      <td>28.825025</td>\n",
       "      <td>14.890288</td>\n",
       "      <td>39.649111</td>\n",
       "      <td>4.099760</td>\n",
       "      <td>3.416167</td>\n",
       "      <td>39.128572</td>\n",
       "      <td>16.191324</td>\n",
       "      <td>15.050938</td>\n",
       "      <td>29.320655</td>\n",
       "      <td>0.0</td>\n",
       "    </tr>\n",
       "  </tbody>\n",
       "</table>\n",
       "</div>"
      ],
      "text/plain": [
       "            left-x     left-y    right-x    right-y    nose-x    nose-y  \\\n",
       "speaker                                                                   \n",
       "man-1    15.154425  36.328485  18.901917  54.902340  6.654573  5.520045   \n",
       "woman-1  17.573442  26.594521  16.459943  34.667787  3.549392  3.538330   \n",
       "woman-2  15.388711  28.825025  14.890288  39.649111  4.099760  3.416167   \n",
       "\n",
       "           grnd-ry    grnd-rx    grnd-lx    grnd-ly  left-x-mean  \n",
       "speaker                                                           \n",
       "man-1    53.487999  20.269032  15.080360  36.572749          0.0  \n",
       "woman-1  33.972660  16.764706  17.328941  27.117393          0.0  \n",
       "woman-2  39.128572  16.191324  15.050938  29.320655          0.0  "
      ]
     },
     "metadata": {},
     "output_type": "display_data"
    },
    {
     "data": {
      "text/html": [
       "<font color=green>Correct!</font><br/>"
      ],
      "text/plain": [
       "<IPython.core.display.HTML object>"
      ]
     },
     "execution_count": 10,
     "metadata": {},
     "output_type": "execute_result"
    }
   ],
   "source": [
    "from asl_utils import test_std_tryit\n",
    "# TODO Create a dataframe named `df_std` with standard deviations grouped by speaker\n",
    "df_std = asl.df.groupby('speaker').std()\n",
    "# test the code\n",
    "test_std_tryit(df_std)"
   ]
  },
  {
   "cell_type": "markdown",
   "metadata": {},
   "source": [
    "<a id='part1_submission'></a>\n",
    "### Features Implementation Submission\n",
    "Implement four feature sets and answer the question that follows.\n",
    "- normalized Cartesian coordinates\n",
    "    - use *mean* and *standard deviation* statistics and the [standard score](https://en.wikipedia.org/wiki/Standard_score) equation to account for speakers with different heights and arm length\n",
    "    \n",
    "- polar coordinates\n",
    "    - calculate polar coordinates with [Cartesian to polar equations](https://en.wikipedia.org/wiki/Polar_coordinate_system#Converting_between_polar_and_Cartesian_coordinates)\n",
    "    - use the [np.arctan2](https://docs.scipy.org/doc/numpy-1.10.0/reference/generated/numpy.arctan2.html) function and *swap the x and y axes* to move the $0$ to $2\\pi$ discontinuity to 12 o'clock instead of 3 o'clock;  in other words, the normal break in radians value from $0$ to $2\\pi$ occurs directly to the left of the speaker's nose, which may be in the signing area and interfere with results.  By swapping the x and y axes, that discontinuity move to directly above the speaker's head, an area not generally used in signing.\n",
    "\n",
    "- delta difference\n",
    "    - as described in Thad's lecture, use the difference in values between one frame and the next frames as features\n",
    "    - pandas [diff method](http://pandas.pydata.org/pandas-docs/stable/generated/pandas.DataFrame.diff.html) and [fillna method](http://pandas.pydata.org/pandas-docs/stable/generated/pandas.DataFrame.fillna.html) will be helpful for this one\n",
    "\n",
    "- custom features\n",
    "    - These are your own design; combine techniques used above or come up with something else entirely. We look forward to seeing what you come up with! \n",
    "    Some ideas to get you started:\n",
    "        - normalize using a [feature scaling equation](https://en.wikipedia.org/wiki/Feature_scaling)\n",
    "        - normalize the polar coordinates\n",
    "        - adding additional deltas\n"
   ]
  },
  {
   "cell_type": "code",
   "execution_count": 11,
   "metadata": {},
   "outputs": [
    {
     "name": "stdout",
     "output_type": "stream",
     "text": [
      "              norm-rx   norm-ry   norm-lx  norm-ly\n",
      "video frame                                       \n",
      "23    0      0.479084  1.618303  0.830836  0.50209\n",
      "      1      0.479084  1.618303  0.830836  0.50209\n",
      "      2      0.479084  1.618303  0.830836  0.50209\n",
      "      3      0.479084  1.618303  0.830836  0.50209\n",
      "      4      0.479084  1.618303  0.830836  0.50209\n",
      "             speaker  left-x  left-y  left-x-mean  left-y-mean  left-x-std  \\\n",
      "video frame                                                                  \n",
      "23    0      woman-2     196     191   183.214509   176.527232   15.388711   \n",
      "      1      woman-2     196     191   183.214509   176.527232   15.388711   \n",
      "      2      woman-2     196     191   183.214509   176.527232   15.388711   \n",
      "      3      woman-2     196     191   183.214509   176.527232   15.388711   \n",
      "      4      woman-2     196     191   183.214509   176.527232   15.388711   \n",
      "\n",
      "             left-y-std  \n",
      "video frame              \n",
      "23    0       28.825025  \n",
      "      1       28.825025  \n",
      "      2       28.825025  \n",
      "      3       28.825025  \n",
      "      4       28.825025  \n"
     ]
    }
   ],
   "source": [
    "# TODO add features for normalized by speaker values of left, right, x, y\n",
    "# Name these 'norm-rx', 'norm-ry', 'norm-lx', and 'norm-ly'\n",
    "# using Z-score scaling (X-Xmean)/Xstd\n",
    "asl.df['left-x-mean'] = asl.df['speaker'].map(df_means['left-x'])\n",
    "asl.df['left-y-mean'] = asl.df['speaker'].map(df_means['left-y'])\n",
    "asl.df['right-x-mean'] = asl.df['speaker'].map(df_means['right-x'])\n",
    "asl.df['right-y-mean'] = asl.df['speaker'].map(df_means['right-y'])\n",
    "\n",
    "asl.df['left-x-std'] = asl.df['speaker'].map(df_std['left-x'])\n",
    "asl.df['left-y-std'] = asl.df['speaker'].map(df_std['left-y'])\n",
    "asl.df['right-x-std'] = asl.df['speaker'].map(df_std['right-x'])\n",
    "asl.df['right-y-std'] = asl.df['speaker'].map(df_std['right-y'])\n",
    "\n",
    "asl.df['norm-lx'] = (asl.df['left-x'] - asl.df['left-x-mean']) / asl.df['left-x-std']\n",
    "asl.df['norm-ly'] = (asl.df['left-y'] - asl.df['left-y-mean']) / asl.df['left-y-std']\n",
    "asl.df['norm-rx'] = (asl.df['right-x'] - asl.df['right-x-mean']) / asl.df['right-x-std']\n",
    "asl.df['norm-ry'] = (asl.df['right-y'] - asl.df['right-y-mean']) / asl.df['right-y-std']\n",
    "\n",
    "features_norm = ['norm-rx', 'norm-ry', 'norm-lx','norm-ly']\n",
    "print(asl.df[asl.df.speaker != 'woman-1'][features_norm].head())\n",
    "print(asl.df[asl.df.speaker != 'woman-1'][['speaker', 'left-x', 'left-y', 'left-x-mean', 'left-y-mean', 'left-x-std', 'left-y-std']].head())"
   ]
  },
  {
   "cell_type": "code",
   "execution_count": 12,
   "metadata": {},
   "outputs": [
    {
     "name": "stdout",
     "output_type": "stream",
     "text": [
      "              polar-rr  polar-rtheta    polar-lr  polar-ltheta\n",
      "video frame                                                   \n",
      "98    0      113.35784      0.079478  119.603512     -0.100501\n",
      "      1      113.35784      0.079478  119.603512     -0.100501\n",
      "      2      113.35784      0.079478  119.603512     -0.100501\n",
      "      3      113.35784      0.079478  119.603512     -0.100501\n",
      "      4      113.35784      0.079478  119.603512     -0.100501\n",
      "             speaker  left-x  left-y  nose-x  nose-y\n",
      "video frame                                         \n",
      "98    0      woman-1     149     181     161      62\n",
      "      1      woman-1     149     181     161      62\n",
      "      2      woman-1     149     181     161      62\n",
      "      3      woman-1     149     181     161      62\n",
      "      4      woman-1     149     181     161      62\n"
     ]
    }
   ],
   "source": [
    "# TODO add features for polar coordinate values where the nose is the origin\n",
    "# Name these 'polar-rr', 'polar-rtheta', 'polar-lr', and 'polar-ltheta'\n",
    "# Note that 'polar-rr' and 'polar-rtheta' refer to the radius and angle\n",
    "\n",
    "asl.df['polar-rr'] = np.sqrt(asl.df['grnd-ry']**2 + asl.df['grnd-rx']**2)\n",
    "asl.df['polar-rtheta'] = np.arctan(asl.df['grnd-rx'] / asl.df['grnd-ry'])\n",
    "asl.df['polar-lr'] = np.sqrt(asl.df['grnd-ly']**2 + asl.df['grnd-lx']**2)\n",
    "asl.df['polar-ltheta'] = np.arctan(asl.df['grnd-lx'] / asl.df['grnd-ly'])\n",
    "features_polar = ['polar-rr', 'polar-rtheta', 'polar-lr', 'polar-ltheta']\n",
    "\n",
    "print(asl.df[asl.df.speaker != 'woman-2'][features_polar].head())\n",
    "print(asl.df[asl.df.speaker != 'woman-2'][['speaker', 'left-x', 'left-y', 'nose-x', 'nose-y']].head())"
   ]
  },
  {
   "cell_type": "code",
   "execution_count": 13,
   "metadata": {},
   "outputs": [
    {
     "name": "stdout",
     "output_type": "stream",
     "text": [
      "polar-rr          113.358\n",
      "polar-rtheta    0.0794782\n",
      "polar-lr          119.604\n",
      "polar-ltheta    -0.100501\n",
      "Name: (98, 1), dtype: object\n",
      "speaker    woman-1\n",
      "left-x         149\n",
      "left-y         181\n",
      "nose-x         161\n",
      "nose-y          62\n",
      "Name: (98, 1), dtype: object\n"
     ]
    }
   ],
   "source": [
    "sample = (asl.df.ix[98,1][features_polar]).tolist()\n",
    "print(asl.df.ix[98,1][features_polar])\n",
    "print(asl.df.ix[98,1][['speaker', 'left-x', 'left-y', 'nose-x', 'nose-y']])\n",
    "#np.testing.assert_almost_equal(sample, [113.3578, 0.0794, 119.603, -0.1005], 3)"
   ]
  },
  {
   "cell_type": "code",
   "execution_count": 14,
   "metadata": {},
   "outputs": [
    {
     "name": "stdout",
     "output_type": "stream",
     "text": [
      "             delta-rx  delta-ry  delta-lx  delta-ly\n",
      "video frame                                        \n",
      "98    22          5.0      -3.0       0.0       0.0\n",
      "      23          9.0      -3.0       0.0       0.0\n",
      "      24          3.0       1.0       0.0       0.0\n",
      "      25          5.0      -1.0       0.0       0.0\n",
      "      26          3.0      -1.0       0.0       0.0\n",
      "             speaker  right-x  right-y  left-x  left-y\n",
      "video frame                                           \n",
      "98    22     woman-1      115       86     149     181\n",
      "      23     woman-1      124       83     149     181\n",
      "      24     woman-1      127       84     149     181\n",
      "      25     woman-1      132       83     149     181\n",
      "      26     woman-1      135       82     149     181\n"
     ]
    }
   ],
   "source": [
    "# TODO add features for left, right, x, y differences by one time step, i.e. the \"delta\" values discussed in the lecture\n",
    "# Name these 'delta-rx', 'delta-ry', 'delta-lx', and 'delta-ly'\n",
    "asl.df['delta-rx'] = asl.df.groupby('speaker')['right-x'].diff()\n",
    "asl.df['delta-ry'] = asl.df.groupby('speaker')['right-y'].diff()\n",
    "asl.df['delta-lx'] = asl.df.groupby('speaker')['left-x'].diff()\n",
    "asl.df['delta-ly'] = asl.df.groupby('speaker')['left-y'].diff()\n",
    "asl.df.fillna(0, inplace = True) #seems like I have to set the first row to be zero\n",
    "features_delta = ['delta-rx', 'delta-ry', 'delta-lx', 'delta-ly']\n",
    "\n",
    "idx = asl.df[asl.df.speaker != 'woman-2']['delta-rx'] > 0\n",
    "\n",
    "print(asl.df[asl.df.speaker != 'woman-2'][features_delta][idx].head())\n",
    "print(asl.df[asl.df.speaker != 'woman-2'][['speaker', 'right-x', 'right-y', 'left-x', 'left-y']][idx].head())"
   ]
  },
  {
   "cell_type": "code",
   "execution_count": 15,
   "metadata": {},
   "outputs": [
    {
     "name": "stdout",
     "output_type": "stream",
     "text": [
      "delta-rx   -14\n",
      "delta-ry    -9\n",
      "delta-lx     0\n",
      "delta-ly     0\n",
      "Name: (98, 18), dtype: object\n"
     ]
    }
   ],
   "source": [
    "sample = (asl.df.ix[98, 0][features_delta]).tolist()\n",
    "print(asl.df.ix[98, 18][features_delta])\n",
    "#self.assertEqual(sample, [0, 0, 0, 0])\n",
    "sample = (asl.df.ix[98, 18][features_delta]).tolist()\n",
    "#self.assertTrue(sample in [[-16, -5, -2, 4], [-14, -9, 0, 0]], \"Sample value found was {}\".format(sample))"
   ]
  },
  {
   "cell_type": "code",
   "execution_count": 16,
   "metadata": {},
   "outputs": [
    {
     "name": "stdout",
     "output_type": "stream",
     "text": [
      "             delta-rr  delta-rtheta  delta-lr  delta-ltheta\n",
      "video frame                                                \n",
      "98    22    -5.828929      0.002621  0.000000      0.000000\n",
      "      23    -9.142959      0.049651  0.000000      0.000000\n",
      "      24    -1.793578      0.056985  0.000000      0.000000\n",
      "      25    -3.096578      0.093710  1.989439      0.001621\n",
      "      26    -2.827991      0.035127  0.000000      0.000000\n",
      "             speaker   polar-rr  polar-rtheta    polar-lr  polar-ltheta\n",
      "video frame                                                            \n",
      "98    22     woman-1  55.758407     -1.002692  125.674182     -0.103627\n",
      "      23     woman-1  46.615448     -0.953041  125.674182     -0.103627\n",
      "      24     woman-1  44.821870     -0.896055  125.674182     -0.103627\n",
      "      25     woman-1  41.725292     -0.802346  127.663621     -0.102007\n",
      "      26     woman-1  38.897301     -0.767218  127.663621     -0.102007\n"
     ]
    }
   ],
   "source": [
    "# TODO add features of your own design, which may be a combination of the above or something else\n",
    "# Name these whatever you would like\n",
    "# lets combine the delta concept and R-theta concept\n",
    "asl.df['delta-rr'] = asl.df.groupby('speaker')['polar-rr'].diff()\n",
    "asl.df['delta-rtheta'] = asl.df.groupby('speaker')['polar-rtheta'].diff()\n",
    "asl.df['delta-lr'] = asl.df.groupby('speaker')['polar-lr'].diff()\n",
    "asl.df['delta-ltheta'] = asl.df.groupby('speaker')['polar-ltheta'].diff()\n",
    "asl.df.fillna(0, inplace = True)\n",
    "# TODO define a list named 'features_custom' for building the training set\n",
    "features_custom = ['delta-rr', 'delta-rtheta', 'delta-lr', 'delta-ltheta']\n",
    "print(asl.df[asl.df.speaker != 'woman-2'][features_custom][idx].head())\n",
    "print(asl.df[asl.df.speaker != 'woman-2'][['speaker', 'polar-rr', 'polar-rtheta', 'polar-lr', 'polar-ltheta']][idx].head())"
   ]
  },
  {
   "cell_type": "markdown",
   "metadata": {},
   "source": [
    "**Question 1:**  What custom features did you choose for the features_custom set and why?\n",
    "\n",
    "**Answer 1:**\n",
    "I chose to use a combination of delta and radius(distance) and angle combination. I think radius and angle is good in capturing both movements in 2-D. Delta indicates position changes, which can potentially be meaningful in identifying movements. "
   ]
  },
  {
   "cell_type": "markdown",
   "metadata": {},
   "source": [
    "<a id='part1_test'></a>\n",
    "### Features Unit Testing\n",
    "Run the following unit tests as a sanity check on the defined \"ground\", \"norm\", \"polar\", and 'delta\"\n",
    "feature sets.  The test simply looks for some valid values but is not exhaustive.  However, the project should not be submitted if these tests don't pass."
   ]
  },
  {
   "cell_type": "code",
   "execution_count": 17,
   "metadata": {},
   "outputs": [
    {
     "name": "stderr",
     "output_type": "stream",
     "text": [
      "....\n",
      "----------------------------------------------------------------------\n",
      "Ran 4 tests in 0.016s\n",
      "\n",
      "OK\n"
     ]
    },
    {
     "data": {
      "text/plain": [
       "<unittest.runner.TextTestResult run=4 errors=0 failures=0>"
      ]
     },
     "execution_count": 17,
     "metadata": {},
     "output_type": "execute_result"
    }
   ],
   "source": [
    "import unittest\n",
    "# import numpy as np\n",
    "\n",
    "class TestFeatures(unittest.TestCase):\n",
    "\n",
    "    def test_features_ground(self):\n",
    "        sample = (asl.df.ix[98, 1][features_ground]).tolist()\n",
    "        self.assertEqual(sample, [9, 113, -12, 119])\n",
    "\n",
    "    def test_features_norm(self):\n",
    "        sample = (asl.df.ix[98, 1][features_norm]).tolist()\n",
    "        np.testing.assert_almost_equal(sample, [ 1.153,  1.663, -0.891,  0.742], 3)\n",
    "\n",
    "    def test_features_polar(self):\n",
    "        sample = (asl.df.ix[98,1][features_polar]).tolist()\n",
    "        np.testing.assert_almost_equal(sample, [113.3578, 0.0794, 119.603, -0.1005], 3)\n",
    "\n",
    "    def test_features_delta(self):\n",
    "        sample = (asl.df.ix[98, 0][features_delta]).tolist()\n",
    "        self.assertEqual(sample, [0, 0, 0, 0])\n",
    "        sample = (asl.df.ix[98, 18][features_delta]).tolist()\n",
    "        self.assertTrue(sample in [[-16, -5, -2, 4], [-14, -9, 0, 0]], \"Sample value found was {}\".format(sample))\n",
    "                         \n",
    "suite = unittest.TestLoader().loadTestsFromModule(TestFeatures())\n",
    "unittest.TextTestRunner().run(suite)"
   ]
  },
  {
   "cell_type": "markdown",
   "metadata": {
    "collapsed": true
   },
   "source": [
    "<a id='part2_tutorial'></a>\n",
    "## PART 2: Model Selection\n",
    "### Model Selection Tutorial\n",
    "The objective of Model Selection is to tune the number of states for each word HMM prior to testing on unseen data.  In this section you will explore three methods: \n",
    "- Log likelihood using cross-validation folds (CV)\n",
    "- Bayesian Information Criterion (BIC)\n",
    "- Discriminative Information Criterion (DIC) "
   ]
  },
  {
   "cell_type": "markdown",
   "metadata": {},
   "source": [
    "##### Train a single word\n",
    "Now that we have built a training set with sequence data, we can \"train\" models for each word.  As a simple starting example, we train a single word using Gaussian hidden Markov models (HMM).   By using the `fit` method during training, the [Baum-Welch Expectation-Maximization](https://en.wikipedia.org/wiki/Baum%E2%80%93Welch_algorithm) (EM) algorithm is invoked iteratively to find the best estimate for the model *for the number of hidden states specified* from a group of sample seequences. For this example, we *assume* the correct number of hidden states is 3, but that is just a guess.  How do we know what the \"best\" number of states for training is?  We will need to find some model selection technique to choose the best parameter."
   ]
  },
  {
   "cell_type": "code",
   "execution_count": 18,
   "metadata": {},
   "outputs": [
    {
     "name": "stdout",
     "output_type": "stream",
     "text": [
      "(172, 4)\n",
      "172\n",
      "<class 'numpy.ndarray'>\n",
      "<class 'list'>\n",
      "[[-11  57   9  58]\n",
      " [-11  57   5  59]\n",
      " [-11  57   5  59]\n",
      " [-11  57   5  59]\n",
      " [-11  57   5  59]\n",
      " [-11  57  14  59]\n",
      " [-11  53  12  53]\n",
      " [ -7  55   6  53]\n",
      " [ -7  55   6  53]\n",
      " [ -7  55   6  53]\n",
      " [ -7  55  13  58]\n",
      " [-12  59  20  62]\n",
      " [-11  39   3  39]\n",
      " [ -4  42   3  39]\n",
      " [ -8  40   3  39]\n",
      " [-11  41   5  38]\n",
      " [-14  42   7  39]\n",
      " [-14  42  11  40]\n",
      " [-14  42  15  42]\n",
      " [ 16  37  33  53]\n",
      " [ 20  41  29  48]\n",
      " [ 20  41  27  41]\n",
      " [ 14  42  25  42]\n",
      " [  8  46  22  45]\n",
      " [  3  45  25  46]\n",
      " [  0  46  25  46]\n",
      " [-19  84  11 106]\n",
      " [-19  88  11 106]\n",
      " [-19  88  11 104]\n",
      " [-19  88  11 104]\n",
      " [-19  88  11 104]\n",
      " [-18  84  12 100]\n",
      " [-18  84  12 100]\n",
      " [-18  94  14 101]\n",
      " [-24 102  16 109]\n",
      " [-25 112  14 117]\n",
      " [-27 119  19 125]\n",
      " [  1  51  18  62]\n",
      " [  8  54  15  54]\n",
      " [  6  53  15  54]\n",
      " [  3  49  17  49]\n",
      " [  3  49  17  49]\n",
      " [ -4  49  22  50]\n",
      " [ -9  55  18  56]\n",
      " [ -5  60  23  61]\n",
      " [-22  85  25  83]\n",
      " [-19  90  30  93]\n",
      " [-17  98  19  98]\n",
      " [-17  98  24 100]\n",
      " [-17 103  21 105]\n",
      " [-18 111  20 112]\n",
      " [-15 120  20 120]\n",
      " [-17 131  17 132]\n",
      " [-13  86  26  96]\n",
      " [-12  91  30  94]\n",
      " [-12  91  25 100]\n",
      " [-11  94  26  97]\n",
      " [ -9 100  23 101]\n",
      " [-10 107  26 112]\n",
      " [ -9 121  24 125]\n",
      " [-11 135  26 136]\n",
      " [-13  58   9  78]\n",
      " [ -3  71   8  81]\n",
      " [ -3  71   8  81]\n",
      " [ -3  71   9  74]\n",
      " [ -7  74  12  75]\n",
      " [-12  79  17  80]\n",
      " [-18  83  18  84]\n",
      " [-10  46  24  39]\n",
      " [-10  43  18  40]\n",
      " [-10  43   9  41]\n",
      " [ -6  44   5  41]\n",
      " [ -6  44   5  41]\n",
      " [ -9  42  11  42]\n",
      " [ -9  42  16  43]\n",
      " [-13  42  13  45]\n",
      " [ -6  63  34  83]\n",
      " [ -2  69  27  79]\n",
      " [  2  71  21  78]\n",
      " [ -1  70  18  77]\n",
      " [ -1  70  18  77]\n",
      " [  1  67  20  74]\n",
      " [  4  68  19  79]\n",
      " [  4  68  19  79]\n",
      " [  4  68  19  79]\n",
      " [  1  71  19  79]\n",
      " [  1  71  19  79]\n",
      " [  0  66  18  74]\n",
      " [  0  66  16  78]\n",
      " [  0  66  16  78]\n",
      " [  0  66  16  78]\n",
      " [ -2  72  16  78]\n",
      " [  0  75  15  85]\n",
      " [ -1  40  19  50]\n",
      " [  2  43  13  47]\n",
      " [  1  40  12  44]\n",
      " [ -2  45  14  48]\n",
      " [  2  45  18  48]\n",
      " [  2  49  17  54]\n",
      " [  2  49  14  49]\n",
      " [  2  49  14  49]\n",
      " [  2  49  14  49]\n",
      " [  2  49  14  49]\n",
      " [  0  47  17  51]\n",
      " [  0  47  17  51]\n",
      " [  2  52  16  54]\n",
      " [  0  51  16  54]\n",
      " [  2  57  17  57]\n",
      " [  0  55  12  56]\n",
      " [  0  55  12  56]\n",
      " [  0  55  12  56]\n",
      " [  0  55  12  56]\n",
      " [ -7  55  16  54]\n",
      " [ -7  55  16  54]\n",
      " [ -2  56  11  54]\n",
      " [ -2  56  11  54]\n",
      " [ -2  56  11  54]\n",
      " [ -2  56  11  54]\n",
      " [ -4  57  18  60]\n",
      " [ -3  62  18  60]\n",
      " [ -3  62  23  63]\n",
      " [ -1  53  15  58]\n",
      " [  1  54   7  56]\n",
      " [ -3  55   9  58]\n",
      " [ -8  57  12  57]\n",
      " [ -8  57  12  57]\n",
      " [ -9  53  11  53]\n",
      " [ -9  53  11  53]\n",
      " [ -5  55   5  56]\n",
      " [ -5  55   5  56]\n",
      " [ -5  55   5  56]\n",
      " [-10  54  12  53]\n",
      " [-10  54  12  53]\n",
      " [ -8  52  19  52]\n",
      " [ -8  52  18  59]\n",
      " [ -1  82  25  96]\n",
      " [  5  87  17  95]\n",
      " [  3  91  16  99]\n",
      " [  3  91  16  99]\n",
      " [  3  91  16  99]\n",
      " [  3  91  16  99]\n",
      " [  3  91  16  99]\n",
      " [  3  91  16  99]\n",
      " [  3  91  16  99]\n",
      " [  2 111  19 119]\n",
      " [  2 111  19 119]\n",
      " [  1  45  26  60]\n",
      " [  3  52  22  59]\n",
      " [  3  52  20  59]\n",
      " [  3  52  20  59]\n",
      " [  4  59  20  60]\n",
      " [  4  59  20  60]\n",
      " [  6  67  20  68]\n",
      " [  6  77  20  76]\n",
      " [ -7  36  15  42]\n",
      " [ -8  43  12  47]\n",
      " [ -8  43  12  47]\n",
      " [ -9  53  13  55]\n",
      " [-11  54  11  56]\n",
      " [-11  60  10  60]\n",
      " [-11  60  10  60]\n",
      " [ -7  65  10  65]\n",
      " [ -6  70  13  73]\n",
      " [ -7  76  14  80]\n",
      " [-16  77  24 105]\n",
      " [-17  75  24  96]\n",
      " [-13  82  24  85]\n",
      " [-13  80  20  84]\n",
      " [ -9  79  16  83]\n",
      " [ -9  79  16  83]\n",
      " [ -9  79  21  91]\n",
      " [ -9  79  17 105]]\n",
      "[6, 6, 7, 7, 11, 8, 8, 8, 7, 8, 17, 15, 13, 14, 11, 8, 10, 8]\n",
      "Number of states trained in model for BOOK is 7\n",
      "logL = -2040.8850592782348\n"
     ]
    },
    {
     "name": "stderr",
     "output_type": "stream",
     "text": [
      "c:\\users\\inves\\appdata\\local\\programs\\python\\python35\\lib\\site-packages\\hmmlearn\\base.py:460: RuntimeWarning: divide by zero encountered in log\n",
      "  np.log(self.transmat_),\n"
     ]
    }
   ],
   "source": [
    "import warnings\n",
    "from hmmlearn.hmm import GaussianHMM\n",
    "\n",
    "def train_a_word(word, num_hidden_states, features):\n",
    "    warnings.filterwarnings(\"ignore\", category=DeprecationWarning)\n",
    "    training = asl.build_training(features)\n",
    "    X, lengths = training.get_word_Xlengths(word)\n",
    "    print(X.shape)\n",
    "    print(np.sum(lengths))\n",
    "    print(type(X))\n",
    "    print(type(lengths))\n",
    "    print(X)\n",
    "    print(lengths)\n",
    "    model = GaussianHMM(n_components=num_hidden_states, n_iter=1000).fit(X, lengths)\n",
    "    logL = model.score(X, lengths)\n",
    "    return model, logL\n",
    "\n",
    "demoword = 'BOOK' #CHOCOLATE\n",
    "#logL:\n",
    "#1 - -2720.5098\n",
    "#2 - -2478.0946\n",
    "#3 - -2331.1138\n",
    "#4 - -2282.0082\n",
    "#5 - -2156.4141\n",
    "#6 - -2093.5079\n",
    "\n",
    "model, logL = train_a_word(demoword, 7, features_ground)\n",
    "print(\"Number of states trained in model for {} is {}\".format(demoword, model.n_components))\n",
    "print(\"logL = {}\".format(logL))"
   ]
  },
  {
   "cell_type": "markdown",
   "metadata": {},
   "source": [
    "The HMM model has been trained and information can be pulled from the model, including means and variances for each feature and hidden state.  The [log likelihood](http://math.stackexchange.com/questions/892832/why-we-consider-log-likelihood-instead-of-likelihood-in-gaussian-distribution) for any individual sample or group of samples can also be calculated with the `score` method."
   ]
  },
  {
   "cell_type": "code",
   "execution_count": 19,
   "metadata": {},
   "outputs": [
    {
     "name": "stdout",
     "output_type": "stream",
     "text": [
      "Number of states trained in model for BOOK is 7\n",
      "hidden state #0\n",
      "mean =  [ -6.48972352  55.77466198  11.70168702  56.46153909]\n",
      "variance =  [ 15.3081996    5.41046854  23.2102767    7.73819156]\n",
      "\n",
      "hidden state #1\n",
      "mean =  [-15.18068187  85.82230914  19.10437242  95.65089627]\n",
      "variance =  [ 15.52379852  42.86533971  37.55909175  70.28830791]\n",
      "\n",
      "hidden state #2\n",
      "mean =  [ -1.22193244  69.17699296  16.78614861  77.22368852]\n",
      "variance =  [ 19.35762274  16.21247446  31.4007619   16.48207635]\n",
      "\n",
      "hidden state #3\n",
      "mean =  [ -9.55555959  42.00000285  10.38888331  41.33332479]\n",
      "variance =  [  8.13636731   4.33387109  33.01603935   6.88941311]\n",
      "\n",
      "hidden state #4\n",
      "mean =  [ -13.83991633  114.57541871   20.23306061  118.44591667]\n",
      "variance =  [  79.78930503  103.98971386   12.69296138   89.21722548]\n",
      "\n",
      "hidden state #5\n",
      "mean =  [  3.85802107  48.05646196  19.12672105  51.47218576]\n",
      "variance =  [ 31.22461474  27.31282521  24.54080465  30.02376051]\n",
      "\n",
      "hidden state #6\n",
      "mean =  [  2.77777774  89.55555472  17.11111169  98.22222171]\n",
      "variance =  [ 2.17395181  8.6924725   7.87765752  2.1739517 ]\n",
      "\n"
     ]
    }
   ],
   "source": [
    "def show_model_stats(word, model):\n",
    "    print(\"Number of states trained in model for {} is {}\".format(word, model.n_components))    \n",
    "    variance=np.array([np.diag(model.covars_[i]) for i in range(model.n_components)])    \n",
    "    for i in range(model.n_components):  # for each hidden state\n",
    "        print(\"hidden state #{}\".format(i))\n",
    "        print(\"mean = \", model.means_[i])\n",
    "        print(\"variance = \", variance[i])\n",
    "        print()\n",
    "    \n",
    "show_model_stats(demoword, model)"
   ]
  },
  {
   "cell_type": "markdown",
   "metadata": {},
   "source": [
    "##### Try it!\n",
    "Experiment by changing the feature set, word, and/or num_hidden_states values in the next cell to see changes in values.  "
   ]
  },
  {
   "cell_type": "code",
   "execution_count": 20,
   "metadata": {
    "scrolled": true
   },
   "outputs": [
    {
     "name": "stdout",
     "output_type": "stream",
     "text": [
      "(49, 4)\n",
      "49\n",
      "<class 'numpy.ndarray'>\n",
      "<class 'list'>\n",
      "[[-11  48   7 120]\n",
      " [-11  48   8 109]\n",
      " [ -8  49  11  98]\n",
      " [ -7  50   7  87]\n",
      " [ -4  54   7  77]\n",
      " [ -4  54   6  69]\n",
      " [ -4  54   6  69]\n",
      " [-13  52   6  69]\n",
      " [-13  52   6  69]\n",
      " [ -8  51   6  69]\n",
      " [ -8  51   6  69]\n",
      " [ -8  51   6  69]\n",
      " [ -8  51   6  69]\n",
      " [ -8  51   6  69]\n",
      " [-10  59   7  71]\n",
      " [-15  64   9  77]\n",
      " [-17  75  13  81]\n",
      " [ -4  48  -4 113]\n",
      " [ -2  53  -4 113]\n",
      " [ -4  55   2  98]\n",
      " [ -4  58   2  98]\n",
      " [ -1  59   2  89]\n",
      " [ -1  59  -1  84]\n",
      " [ -1  59  -1  84]\n",
      " [ -7  63  -1  84]\n",
      " [ -7  63  -1  84]\n",
      " [ -7  63   3  83]\n",
      " [ -7  63   3  83]\n",
      " [ -7  63   3  83]\n",
      " [ -7  63   3  83]\n",
      " [ -7  63   3  83]\n",
      " [ -7  63   3  83]\n",
      " [ -7  63   3  83]\n",
      " [ -4  70   3  83]\n",
      " [ -4  70   3  83]\n",
      " [ -2  73   5  90]\n",
      " [ -3  79  -4  96]\n",
      " [-15  98  13 135]\n",
      " [ -6  93  12 128]\n",
      " [ -2  89  14 118]\n",
      " [  5  90  10 108]\n",
      " [  4  86   7 105]\n",
      " [  4  86   7 105]\n",
      " [  4  86  13 100]\n",
      " [ -3  82  14  96]\n",
      " [ -3  82  14  96]\n",
      " [  6  89  16 100]\n",
      " [  6  89  16 100]\n",
      " [  7  85  17 111]]\n",
      "[17, 20, 12]\n",
      "\n",
      "\n",
      "1\n",
      "Number of states trained in model for CHOCOLATE is 1\n",
      "hidden state #0\n",
      "mean =  [ -4.95918367  65.69387755   6.08163265  90.26530612]\n",
      "variance =  [  30.36588505  212.57996252   28.19762182  280.15430654]\n",
      "\n",
      "logL = -712.9183654675646\n",
      "(49, 4)\n",
      "49\n",
      "<class 'numpy.ndarray'>\n",
      "<class 'list'>\n",
      "[[-11  48   7 120]\n",
      " [-11  48   8 109]\n",
      " [ -8  49  11  98]\n",
      " [ -7  50   7  87]\n",
      " [ -4  54   7  77]\n",
      " [ -4  54   6  69]\n",
      " [ -4  54   6  69]\n",
      " [-13  52   6  69]\n",
      " [-13  52   6  69]\n",
      " [ -8  51   6  69]\n",
      " [ -8  51   6  69]\n",
      " [ -8  51   6  69]\n",
      " [ -8  51   6  69]\n",
      " [ -8  51   6  69]\n",
      " [-10  59   7  71]\n",
      " [-15  64   9  77]\n",
      " [-17  75  13  81]\n",
      " [ -4  48  -4 113]\n",
      " [ -2  53  -4 113]\n",
      " [ -4  55   2  98]\n",
      " [ -4  58   2  98]\n",
      " [ -1  59   2  89]\n",
      " [ -1  59  -1  84]\n",
      " [ -1  59  -1  84]\n",
      " [ -7  63  -1  84]\n",
      " [ -7  63  -1  84]\n",
      " [ -7  63   3  83]\n",
      " [ -7  63   3  83]\n",
      " [ -7  63   3  83]\n",
      " [ -7  63   3  83]\n",
      " [ -7  63   3  83]\n",
      " [ -7  63   3  83]\n",
      " [ -7  63   3  83]\n",
      " [ -4  70   3  83]\n",
      " [ -4  70   3  83]\n",
      " [ -2  73   5  90]\n",
      " [ -3  79  -4  96]\n",
      " [-15  98  13 135]\n",
      " [ -6  93  12 128]\n",
      " [ -2  89  14 118]\n",
      " [  5  90  10 108]\n",
      " [  4  86   7 105]\n",
      " [  4  86   7 105]\n",
      " [  4  86  13 100]\n",
      " [ -3  82  14  96]\n",
      " [ -3  82  14  96]\n",
      " [  6  89  16 100]\n",
      " [  6  89  16 100]\n",
      " [  7  85  17 111]]\n",
      "[17, 20, 12]\n",
      "\n",
      "\n",
      "2\n",
      "Number of states trained in model for CHOCOLATE is 2\n",
      "hidden state #0\n",
      "mean =  [   0.58333332   87.91666665   12.75        108.49999997]\n",
      "variance =  [  39.41055582   18.74388903    9.85499999  144.41750059]\n",
      "\n",
      "hidden state #1\n",
      "mean =  [ -6.75675675  58.48648648   3.91891892  84.35135135]\n",
      "variance =  [  14.23840026   63.33116867   15.04775016  181.36330904]\n",
      "\n",
      "logL = -635.460244129058\n",
      "(49, 4)\n",
      "49\n",
      "<class 'numpy.ndarray'>\n",
      "<class 'list'>\n",
      "[[-11  48   7 120]\n",
      " [-11  48   8 109]\n",
      " [ -8  49  11  98]\n",
      " [ -7  50   7  87]\n",
      " [ -4  54   7  77]\n",
      " [ -4  54   6  69]\n",
      " [ -4  54   6  69]\n",
      " [-13  52   6  69]\n",
      " [-13  52   6  69]\n",
      " [ -8  51   6  69]\n",
      " [ -8  51   6  69]\n",
      " [ -8  51   6  69]\n",
      " [ -8  51   6  69]\n",
      " [ -8  51   6  69]\n",
      " [-10  59   7  71]\n",
      " [-15  64   9  77]\n",
      " [-17  75  13  81]\n",
      " [ -4  48  -4 113]\n",
      " [ -2  53  -4 113]\n",
      " [ -4  55   2  98]\n",
      " [ -4  58   2  98]\n",
      " [ -1  59   2  89]\n",
      " [ -1  59  -1  84]\n",
      " [ -1  59  -1  84]\n",
      " [ -7  63  -1  84]\n",
      " [ -7  63  -1  84]\n",
      " [ -7  63   3  83]\n",
      " [ -7  63   3  83]\n",
      " [ -7  63   3  83]\n",
      " [ -7  63   3  83]\n",
      " [ -7  63   3  83]\n",
      " [ -7  63   3  83]\n",
      " [ -7  63   3  83]\n",
      " [ -4  70   3  83]\n",
      " [ -4  70   3  83]\n",
      " [ -2  73   5  90]\n",
      " [ -3  79  -4  96]\n",
      " [-15  98  13 135]\n",
      " [ -6  93  12 128]\n",
      " [ -2  89  14 118]\n",
      " [  5  90  10 108]\n",
      " [  4  86   7 105]\n",
      " [  4  86   7 105]\n",
      " [  4  86  13 100]\n",
      " [ -3  82  14  96]\n",
      " [ -3  82  14  96]\n",
      " [  6  89  16 100]\n",
      " [  6  89  16 100]\n",
      " [  7  85  17 111]]\n",
      "[17, 20, 12]\n",
      "\n",
      "\n",
      "3\n",
      "Number of states trained in model for CHOCOLATE is 3\n",
      "hidden state #0\n",
      "mean =  [ -9.30211403  55.32333876   6.92259936  71.24057775]\n",
      "variance =  [ 16.16920957  46.50917372   3.81388185  15.79446427]\n",
      "\n",
      "hidden state #1\n",
      "mean =  [   0.58333333   87.91666667   12.75        108.5       ]\n",
      "variance =  [  39.41055556   18.74388889    9.855       144.4175    ]\n",
      "\n",
      "hidden state #2\n",
      "mean =  [ -5.40587658  60.1652424    2.32479599  91.3095432 ]\n",
      "variance =  [   7.95073876   64.13103127   13.68077479  129.5912395 ]\n",
      "\n",
      "logL = -601.3291470028628\n",
      "(49, 4)\n",
      "49\n",
      "<class 'numpy.ndarray'>\n",
      "<class 'list'>\n",
      "[[-11  48   7 120]\n",
      " [-11  48   8 109]\n",
      " [ -8  49  11  98]\n",
      " [ -7  50   7  87]\n",
      " [ -4  54   7  77]\n",
      " [ -4  54   6  69]\n",
      " [ -4  54   6  69]\n",
      " [-13  52   6  69]\n",
      " [-13  52   6  69]\n",
      " [ -8  51   6  69]\n",
      " [ -8  51   6  69]\n",
      " [ -8  51   6  69]\n",
      " [ -8  51   6  69]\n",
      " [ -8  51   6  69]\n",
      " [-10  59   7  71]\n",
      " [-15  64   9  77]\n",
      " [-17  75  13  81]\n",
      " [ -4  48  -4 113]\n",
      " [ -2  53  -4 113]\n",
      " [ -4  55   2  98]\n",
      " [ -4  58   2  98]\n",
      " [ -1  59   2  89]\n",
      " [ -1  59  -1  84]\n",
      " [ -1  59  -1  84]\n",
      " [ -7  63  -1  84]\n",
      " [ -7  63  -1  84]\n",
      " [ -7  63   3  83]\n",
      " [ -7  63   3  83]\n",
      " [ -7  63   3  83]\n",
      " [ -7  63   3  83]\n",
      " [ -7  63   3  83]\n",
      " [ -7  63   3  83]\n",
      " [ -7  63   3  83]\n",
      " [ -4  70   3  83]\n",
      " [ -4  70   3  83]\n",
      " [ -2  73   5  90]\n",
      " [ -3  79  -4  96]\n",
      " [-15  98  13 135]\n",
      " [ -6  93  12 128]\n",
      " [ -2  89  14 118]\n",
      " [  5  90  10 108]\n",
      " [  4  86   7 105]\n",
      " [  4  86   7 105]\n",
      " [  4  86  13 100]\n",
      " [ -3  82  14  96]\n",
      " [ -3  82  14  96]\n",
      " [  6  89  16 100]\n",
      " [  6  89  16 100]\n",
      " [  7  85  17 111]]\n",
      "[17, 20, 12]\n",
      "\n",
      "\n",
      "4\n",
      "Number of states trained in model for CHOCOLATE is 4\n",
      "hidden state #0\n",
      "mean =  [   0.58333258   87.91666611   12.75000001  108.49999882]\n",
      "variance =  [  39.4105671    18.74389523    9.85499958  144.41752618]\n",
      "\n",
      "hidden state #1\n",
      "mean =  [ -9.23835975  55.307463     6.92298661  71.30538347]\n",
      "variance =  [ 16.30887738  45.97071639   3.76856896  15.98215464]\n",
      "\n",
      "hidden state #2\n",
      "mean =  [ -4.93681705  64.73171915   1.62598519  84.91459657]\n",
      "variance =  [  6.1617479   28.36616959   5.47102461  13.11696032]\n",
      "\n",
      "hidden state #3\n",
      "mean =  [  -6.37712306   51.09867416    3.64009161  104.46268173]\n",
      "variance =  [  10.28220014   12.44316166   27.33390004  106.91029392]\n",
      "\n",
      "logL = -565.1243334331182\n",
      "(49, 4)\n",
      "49\n",
      "<class 'numpy.ndarray'>\n",
      "<class 'list'>\n",
      "[[-11  48   7 120]\n",
      " [-11  48   8 109]\n",
      " [ -8  49  11  98]\n",
      " [ -7  50   7  87]\n",
      " [ -4  54   7  77]\n",
      " [ -4  54   6  69]\n",
      " [ -4  54   6  69]\n",
      " [-13  52   6  69]\n",
      " [-13  52   6  69]\n",
      " [ -8  51   6  69]\n",
      " [ -8  51   6  69]\n",
      " [ -8  51   6  69]\n",
      " [ -8  51   6  69]\n",
      " [ -8  51   6  69]\n",
      " [-10  59   7  71]\n",
      " [-15  64   9  77]\n",
      " [-17  75  13  81]\n",
      " [ -4  48  -4 113]\n",
      " [ -2  53  -4 113]\n",
      " [ -4  55   2  98]\n",
      " [ -4  58   2  98]\n",
      " [ -1  59   2  89]\n",
      " [ -1  59  -1  84]\n",
      " [ -1  59  -1  84]\n",
      " [ -7  63  -1  84]\n",
      " [ -7  63  -1  84]\n",
      " [ -7  63   3  83]\n",
      " [ -7  63   3  83]\n",
      " [ -7  63   3  83]\n",
      " [ -7  63   3  83]\n",
      " [ -7  63   3  83]\n",
      " [ -7  63   3  83]\n",
      " [ -7  63   3  83]\n",
      " [ -4  70   3  83]\n",
      " [ -4  70   3  83]\n",
      " [ -2  73   5  90]\n",
      " [ -3  79  -4  96]\n",
      " [-15  98  13 135]\n",
      " [ -6  93  12 128]\n",
      " [ -2  89  14 118]\n",
      " [  5  90  10 108]\n",
      " [  4  86   7 105]\n",
      " [  4  86   7 105]\n",
      " [  4  86  13 100]\n",
      " [ -3  82  14  96]\n",
      " [ -3  82  14  96]\n",
      " [  6  89  16 100]\n",
      " [  6  89  16 100]\n",
      " [  7  85  17 111]]\n",
      "[17, 20, 12]\n",
      "\n",
      "\n",
      "5\n",
      "Number of states trained in model for CHOCOLATE is 5\n",
      "hidden state #0\n",
      "mean =  [  -6.37753172   51.09767101    3.64019095  104.46455217]\n",
      "variance =  [  10.28279876   12.43850367   27.33782827  106.89825397]\n",
      "\n",
      "hidden state #1\n",
      "mean =  [   3.32089022   86.11784619   12.66977977  102.36987409]\n",
      "variance =  [ 12.48273231   7.43528515  12.86407411  24.73804616]\n",
      "\n",
      "hidden state #2\n",
      "mean =  [ -4.93673736  64.73126904   1.62601029  84.91542811]\n",
      "variance =  [  6.16147276  28.36727822   5.4706657   13.12675543]\n",
      "\n",
      "hidden state #3\n",
      "mean =  [ -9.23826304  55.30740641   6.92298855  71.30558162]\n",
      "variance =  [ 16.30897315  45.96991798   3.76848558  15.98402053]\n",
      "\n",
      "hidden state #4\n",
      "mean =  [  -7.70665738   93.36393433   12.99292645  127.06351815]\n",
      "variance =  [ 29.53966949  13.52107768   0.66764483  48.4385572 ]\n",
      "\n",
      "logL = -544.2490114712309\n"
     ]
    }
   ],
   "source": [
    "#features_ground, best state 5, logL: -544.2490114712284\n",
    "#features_norm, best state 2, logL: -12.241480777283643\n",
    "#features_polar, best state 5, logL: -126.871645\n",
    "#features_delta, best state 5, logL: -190.1026287\n",
    "#features_custom, best state 2, logL: -69.2161476707189\n",
    "my_testword = 'CHOCOLATE'\n",
    "models = []\n",
    "logLs = []\n",
    "for i in range(5):\n",
    "    model, logL = train_a_word(my_testword, i+1, features_ground) # Experiment here with different parameters\n",
    "    models.append(model)\n",
    "    logLs.append(logL)\n",
    "    print('\\n')\n",
    "    print(i+1)\n",
    "    show_model_stats(my_testword, model)\n",
    "    print(\"logL = {}\".format(logL))"
   ]
  },
  {
   "cell_type": "code",
   "execution_count": 21,
   "metadata": {},
   "outputs": [
    {
     "name": "stdout",
     "output_type": "stream",
     "text": [
      "(49, 4)\n",
      "49\n",
      "<class 'numpy.ndarray'>\n",
      "<class 'list'>\n",
      "[[-11  48   7 120]\n",
      " [-11  48   8 109]\n",
      " [ -8  49  11  98]\n",
      " [ -7  50   7  87]\n",
      " [ -4  54   7  77]\n",
      " [ -4  54   6  69]\n",
      " [ -4  54   6  69]\n",
      " [-13  52   6  69]\n",
      " [-13  52   6  69]\n",
      " [ -8  51   6  69]\n",
      " [ -8  51   6  69]\n",
      " [ -8  51   6  69]\n",
      " [ -8  51   6  69]\n",
      " [ -8  51   6  69]\n",
      " [-10  59   7  71]\n",
      " [-15  64   9  77]\n",
      " [-17  75  13  81]\n",
      " [ -4  48  -4 113]\n",
      " [ -2  53  -4 113]\n",
      " [ -4  55   2  98]\n",
      " [ -4  58   2  98]\n",
      " [ -1  59   2  89]\n",
      " [ -1  59  -1  84]\n",
      " [ -1  59  -1  84]\n",
      " [ -7  63  -1  84]\n",
      " [ -7  63  -1  84]\n",
      " [ -7  63   3  83]\n",
      " [ -7  63   3  83]\n",
      " [ -7  63   3  83]\n",
      " [ -7  63   3  83]\n",
      " [ -7  63   3  83]\n",
      " [ -7  63   3  83]\n",
      " [ -7  63   3  83]\n",
      " [ -4  70   3  83]\n",
      " [ -4  70   3  83]\n",
      " [ -2  73   5  90]\n",
      " [ -3  79  -4  96]\n",
      " [-15  98  13 135]\n",
      " [ -6  93  12 128]\n",
      " [ -2  89  14 118]\n",
      " [  5  90  10 108]\n",
      " [  4  86   7 105]\n",
      " [  4  86   7 105]\n",
      " [  4  86  13 100]\n",
      " [ -3  82  14  96]\n",
      " [ -3  82  14  96]\n",
      " [  6  89  16 100]\n",
      " [  6  89  16 100]\n",
      " [  7  85  17 111]]\n",
      "[17, 20, 12]\n",
      "Number of states trained in model for CHOCOLATE is 5\n",
      "hidden state #0\n",
      "mean =  [ -9.23826304  55.30740641   6.92298855  71.30558162]\n",
      "variance =  [ 16.30897315  45.96991798   3.76848558  15.98402053]\n",
      "\n",
      "hidden state #1\n",
      "mean =  [  -7.70665738   93.36393433   12.99292645  127.06351815]\n",
      "variance =  [ 29.53966949  13.52107768   0.66764483  48.4385572 ]\n",
      "\n",
      "hidden state #2\n",
      "mean =  [   3.32089022   86.11784619   12.66977977  102.36987409]\n",
      "variance =  [ 12.48273231   7.43528515  12.86407411  24.73804616]\n",
      "\n",
      "hidden state #3\n",
      "mean =  [ -4.93673736  64.73126904   1.62601029  84.91542811]\n",
      "variance =  [  6.16147276  28.36727822   5.4706657   13.12675543]\n",
      "\n",
      "hidden state #4\n",
      "mean =  [  -6.37753172   51.09767101    3.64019095  104.46455217]\n",
      "variance =  [  10.28279876   12.43850367   27.33782827  106.89825397]\n",
      "\n",
      "logL = -544.2490114712284\n"
     ]
    }
   ],
   "source": [
    "my_testword = 'CHOCOLATE'\n",
    "\n",
    "model, logL = train_a_word(my_testword, 5, features_ground) # Experiment here with different parameters\n",
    "show_model_stats(my_testword, model)\n",
    "print(\"logL = {}\".format(logL))"
   ]
  },
  {
   "cell_type": "markdown",
   "metadata": {},
   "source": [
    "##### Visualize the hidden states\n",
    "We can plot the means and variances for each state and feature.  Try varying the number of states trained for the HMM model and examine the variances.  Are there some models that are \"better\" than others?  How can you tell?  We would like to hear what you think in the classroom online."
   ]
  },
  {
   "cell_type": "code",
   "execution_count": 22,
   "metadata": {},
   "outputs": [],
   "source": [
    "%matplotlib inline"
   ]
  },
  {
   "cell_type": "code",
   "execution_count": 23,
   "metadata": {},
   "outputs": [
    {
     "name": "stdout",
     "output_type": "stream",
     "text": [
      "5\n",
      "[[  -9.23826304   55.30740641    6.92298855   71.30558162]\n",
      " [  -7.70665738   93.36393433   12.99292645  127.06351815]\n",
      " [   3.32089022   86.11784619   12.66977977  102.36987409]\n",
      " [  -4.93673736   64.73126904    1.62601029   84.91542811]\n",
      " [  -6.37753172   51.09767101    3.64019095  104.46455217]]\n",
      "[[[  16.30897315    0.            0.            0.        ]\n",
      "  [   0.           45.96991798    0.            0.        ]\n",
      "  [   0.            0.            3.76848558    0.        ]\n",
      "  [   0.            0.            0.           15.98402053]]\n",
      "\n",
      " [[  29.53966949    0.            0.            0.        ]\n",
      "  [   0.           13.52107768    0.            0.        ]\n",
      "  [   0.            0.            0.66764483    0.        ]\n",
      "  [   0.            0.            0.           48.4385572 ]]\n",
      "\n",
      " [[  12.48273231    0.            0.            0.        ]\n",
      "  [   0.            7.43528515    0.            0.        ]\n",
      "  [   0.            0.           12.86407411    0.        ]\n",
      "  [   0.            0.            0.           24.73804616]]\n",
      "\n",
      " [[   6.16147276    0.            0.            0.        ]\n",
      "  [   0.           28.36727822    0.            0.        ]\n",
      "  [   0.            0.            5.4706657     0.        ]\n",
      "  [   0.            0.            0.           13.12675543]]\n",
      "\n",
      " [[  10.28279876    0.            0.            0.        ]\n",
      "  [   0.           12.43850367    0.            0.        ]\n",
      "  [   0.            0.           27.33782827    0.        ]\n",
      "  [   0.            0.            0.          106.89825397]]]\n"
     ]
    },
    {
     "data": {
      "image/png": "[encoded data removed]",
      "text/plain": [
       "<matplotlib.figure.Figure at 0x2802703b668>"
      ]
     },
     "metadata": {},
     "output_type": "display_data"
    },
    {
     "data": {
      "image/png": "[encoded data removed]",
      "text/plain": [
       "<matplotlib.figure.Figure at 0x280271d9f28>"
      ]
     },
     "metadata": {},
     "output_type": "display_data"
    },
    {
     "data": {
      "image/png": "[encoded data removed]",
      "text/plain": [
       "<matplotlib.figure.Figure at 0x280272f8588>"
      ]
     },
     "metadata": {},
     "output_type": "display_data"
    },
    {
     "data": {
      "image/png": "[encoded data removed]",
      "text/plain": [
       "<matplotlib.figure.Figure at 0x2802757f5c0>"
      ]
     },
     "metadata": {},
     "output_type": "display_data"
    }
   ],
   "source": [
    "import math\n",
    "from matplotlib import (cm, pyplot as plt, mlab)\n",
    "\n",
    "def visualize(word, model):\n",
    "    \"\"\" visualize the input model for a particular word \"\"\"\n",
    "    variance = np.array([np.diag(model.covars_[i]) for i in range(model.n_components)])\n",
    "    print(model.n_components)\n",
    "    print(model.means_)\n",
    "    print(model.covars_)\n",
    "    figures = []\n",
    "    for parm_idx in range(len(model.means_[0])):\n",
    "        xmin = int(min(model.means_[:,parm_idx]) - max(variance[:,parm_idx]))\n",
    "        xmax = int(max(model.means_[:,parm_idx]) + max(variance[:,parm_idx]))\n",
    "        fig, axs = plt.subplots(model.n_components, sharex=True, sharey=False)\n",
    "        colours = cm.rainbow(np.linspace(0, 1, model.n_components))\n",
    "        for i, (ax, colour) in enumerate(zip(axs, colours)):\n",
    "            x = np.linspace(xmin, xmax, 100)\n",
    "            mu = model.means_[i,parm_idx]\n",
    "            sigma = math.sqrt(np.diag(model.covars_[i])[parm_idx])\n",
    "            ax.plot(x, mlab.normpdf(x, mu, sigma), c=colour)\n",
    "            ax.set_title(\"{} feature {} hidden state #{}\".format(word, parm_idx, i))\n",
    "\n",
    "            ax.grid(True)\n",
    "        figures.append(plt)\n",
    "    for p in figures:\n",
    "        p.show()\n",
    "\n",
    "visualize(my_testword, model)"
   ]
  },
  {
   "cell_type": "markdown",
   "metadata": {},
   "source": [
    "#####  ModelSelector class\n",
    "Review the `ModelSelector` class from the codebase found in the `my_model_selectors.py` module.  It is designed to be a strategy pattern for choosing different model selectors.  For the project submission in this section, subclass `SelectorModel` to implement the following model selectors.  In other words, you will write your own classes/functions in the `my_model_selectors.py` module and run them from this notebook:\n",
    "\n",
    "- `SelectorCV `:  Log likelihood with CV\n",
    "- `SelectorBIC`: BIC \n",
    "- `SelectorDIC`: DIC\n",
    "\n",
    "You will train each word in the training set with a range of values for the number of hidden states, and then score these alternatives with the model selector, choosing the \"best\" according to each strategy. The simple case of training with a constant value for `n_components` can be called using the provided `SelectorConstant` subclass as follow:"
   ]
  },
  {
   "cell_type": "code",
   "execution_count": 29,
   "metadata": {},
   "outputs": [
    {
     "name": "stdout",
     "output_type": "stream",
     "text": [
      "Number of states trained in model for CHOCOLATE is 3\n"
     ]
    }
   ],
   "source": [
    "from my_model_selectors import SelectorConstant\n",
    "\n",
    "training = asl.build_training(features_ground)  # Experiment here with different feature sets defined in part 1\n",
    "word = 'CHOCOLATE' # Experiment here with different words\n",
    "model = SelectorConstant(training.get_all_sequences(), training.get_all_Xlengths(), word, n_constant=3).select()\n",
    "print(\"Number of states trained in model for {} is {}\".format(word, model.n_components))"
   ]
  },
  {
   "cell_type": "markdown",
   "metadata": {},
   "source": [
    "##### Cross-validation folds\n",
    "If we simply score the model with the Log Likelihood calculated from the feature sequences it has been trained on, we should expect that more complex models will have higher likelihoods. However, that doesn't tell us which would have a better likelihood score on unseen data.  The model will likely be overfit as complexity is added.  To estimate which topology model is better using only the training data, we can compare scores using cross-validation.  One technique for cross-validation is to break the training set into \"folds\" and rotate which fold is left out of training.  The \"left out\" fold scored.  This gives us a proxy method of finding the best model to use on \"unseen data\". In the following example, a set of word sequences is broken into three folds using the [scikit-learn Kfold](http://scikit-learn.org/stable/modules/generated/sklearn.model_selection.KFold.html) class object. When you implement `SelectorCV`, you will use this technique."
   ]
  },
  {
   "cell_type": "code",
   "execution_count": 30,
   "metadata": {},
   "outputs": [
    {
     "name": "stdout",
     "output_type": "stream",
     "text": [
      "6\n",
      "[[[-26, 52, 22, 134], [-26, 52, 22, 134], [-25, 46, 22, 134], [-25, 46, 22, 134], [-22, 42, 22, 134], [-24, 39, 20, 131], [-23, 40, 21, 132], [-21, 39, 21, 131], [-20, 38, 22, 130], [-21, 38, 21, 130], [-22, 37, 20, 129], [-20, 36, 22, 128], [-21, 37, 21, 129]], [[-22, 44, 26, 133], [-18, 40, 26, 133], [-21, 36, 26, 133], [-21, 36, 26, 133], [-21, 36, 26, 133], [-21, 36, 26, 133], [-21, 36, 26, 133], [-21, 36, 26, 133], [-21, 36, 26, 133]], [[-20, 48, 26, 183], [-21, 46, 26, 183], [-20, 43, 30, 183], [-20, 43, 30, 183], [-18, 42, 32, 182], [-18, 38, 32, 178], [-15, 35, 35, 175], [-16, 36, 35, 175], [-14, 41, 35, 175], [-13, 38, 36, 172], [-13, 41, 36, 172], [-11, 39, 38, 170], [-16, 36, 38, 170]], [[-20, 36, -14, 126], [-22, 35, -14, 126], [-22, 35, -14, 126], [-21, 31, -14, 126], [-18, 30, -14, 126], [-15, 30, -14, 126], [-13, 30, -14, 126], [-13, 30, -14, 126], [-16, 28, -14, 126], [-16, 31, -14, 126], [-15, 33, -14, 126], [-15, 35, -14, 126], [-15, 35, -14, 126], [-16, 33, -14, 126], [-16, 33, -14, 126], [-16, 33, -14, 126], [-16, 33, -14, 126]], [[-19, 39, -11, 124], [-19, 39, -11, 124], [-19, 39, -11, 124], [-19, 39, -11, 124], [-16, 37, -11, 126], [-16, 37, -11, 126], [-16, 37, -11, 126], [-17, 34, -11, 126], [-20, 32, -11, 126], [-20, 32, -11, 126], [-20, 32, -11, 126], [-20, 32, -11, 126], [-20, 32, -11, 126], [-20, 32, -11, 126], [-18, 35, -9, 129], [-20, 31, -9, 129]], [[-7, 53, 31, 184], [-12, 50, 31, 184], [-12, 50, 31, 184], [-18, 42, 29, 180], [-18, 42, 29, 180], [-18, 42, 29, 180], [-16, 39, 31, 177], [-16, 39, 31, 177], [-17, 45, 31, 177], [-12, 44, 33, 173], [-12, 44, 33, 173], [-12, 44, 33, 173], [-12, 44, 33, 173]]]\n",
      "Train fold indices:[2 3 4 5] Test fold indices:[0 1]\n",
      "Train fold indices:[0 1 4 5] Test fold indices:[2 3]\n",
      "Train fold indices:[0 1 2 3] Test fold indices:[4 5]\n"
     ]
    }
   ],
   "source": [
    "from sklearn.model_selection import KFold\n",
    "\n",
    "training = asl.build_training(features_ground) # Experiment here with different feature sets\n",
    "word = 'VEGETABLE' # Experiment here with different words\n",
    "word_sequences = training.get_word_sequences(word)\n",
    "split_method = KFold()\n",
    "print(len(word_sequences))\n",
    "print(word_sequences)\n",
    "for cv_train_idx, cv_test_idx in split_method.split(word_sequences):\n",
    "    print(\"Train fold indices:{} Test fold indices:{}\".format(cv_train_idx, cv_test_idx))  # view indices of the folds"
   ]
  },
  {
   "cell_type": "markdown",
   "metadata": {},
   "source": [
    "**Tip:** In order to run `hmmlearn` training using the X,lengths tuples on the new folds, subsets must be combined based on the indices given for the folds.  A helper utility has been provided in the `asl_utils` module named `combine_sequences` for this purpose."
   ]
  },
  {
   "cell_type": "markdown",
   "metadata": {},
   "source": [
    "##### Scoring models with other criterion\n",
    "Scoring model topologies with **BIC** balances fit and complexity within the training set for each word.  In the BIC equation, a penalty term penalizes complexity to avoid overfitting, so that it is not necessary to also use cross-validation in the selection process.  There are a number of references on the internet for this criterion.  These [slides](http://www2.imm.dtu.dk/courses/02433/doc/ch6_slides.pdf) include a formula you may find helpful for your implementation.\n",
    "\n",
    "The advantages of scoring model topologies with **DIC** over BIC are presented by Alain Biem in this [reference](http://citeseerx.ist.psu.edu/viewdoc/download?doi=10.1.1.58.6208&rep=rep1&type=pdf) (also found [here](https://pdfs.semanticscholar.org/ed3d/7c4a5f607201f3848d4c02dd9ba17c791fc2.pdf)).  DIC scores the discriminant ability of a training set for one word against competing words.  Instead of a penalty term for complexity, it provides a penalty if model liklihoods for non-matching words are too similar to model likelihoods for the correct word in the word set."
   ]
  },
  {
   "cell_type": "markdown",
   "metadata": {},
   "source": [
    "<a id='part2_submission'></a>\n",
    "### Model Selection Implementation Submission\n",
    "Implement `SelectorCV`, `SelectorBIC`, and `SelectorDIC` classes in the `my_model_selectors.py` module.  Run the selectors on the following five words. Then answer the questions about your results.\n",
    "\n",
    "**Tip:** The `hmmlearn` library may not be able to train or score all models.  Implement try/except contructs as necessary to eliminate non-viable models from consideration."
   ]
  },
  {
   "cell_type": "code",
   "execution_count": 31,
   "metadata": {},
   "outputs": [],
   "source": [
    "words_to_train = ['FISH', 'BOOK', 'VEGETABLE', 'FUTURE', 'JOHN']\n",
    "import timeit"
   ]
  },
  {
   "cell_type": "code",
   "execution_count": 32,
   "metadata": {},
   "outputs": [],
   "source": [
    "# autoreload for automatically reloading changes made in my_model_selectors and my_recognizer\n",
    "%load_ext autoreload\n",
    "%autoreload 2"
   ]
  },
  {
   "cell_type": "code",
   "execution_count": 74,
   "metadata": {},
   "outputs": [],
   "source": [
    "# TODO: Implement SelectorCV in my_model_selector.py\n",
    "from my_model_selectors import SelectorCV\n",
    "\n",
    "training = asl.build_training(features_custom)  # Experiment here with different feature sets defined in part 1, to load a training file with specified features\n",
    "sequences = training.get_all_sequences() #self._data\n",
    "Xlengths = training.get_all_Xlengths() #self._hmm_data"
   ]
  },
  {
   "cell_type": "code",
   "execution_count": 75,
   "metadata": {
    "scrolled": true
   },
   "outputs": [
    {
     "name": "stderr",
     "output_type": "stream",
     "text": [
      "c:\\users\\inves\\appdata\\local\\programs\\python\\python35\\lib\\site-packages\\hmmlearn\\base.py:459: RuntimeWarning: divide by zero encountered in log\n",
      "  np.log(self.startprob_),\n",
      "c:\\users\\inves\\appdata\\local\\programs\\python\\python35\\lib\\site-packages\\hmmlearn\\base.py:468: RuntimeWarning: divide by zero encountered in log\n",
      "  np.log(self.startprob_),\n",
      "c:\\users\\inves\\appdata\\local\\programs\\python\\python35\\lib\\site-packages\\hmmlearn\\base.py:460: RuntimeWarning: divide by zero encountered in log\n",
      "  np.log(self.transmat_),\n",
      "c:\\users\\inves\\appdata\\local\\programs\\python\\python35\\lib\\site-packages\\hmmlearn\\base.py:469: RuntimeWarning: divide by zero encountered in log\n",
      "  np.log(self.transmat_),\n",
      "c:\\users\\inves\\appdata\\local\\programs\\python\\python35\\lib\\site-packages\\hmmlearn\\base.py:624: RuntimeWarning: divide by zero encountered in log\n",
      "  np.log(self.transmat_),\n"
     ]
    },
    {
     "name": "stdout",
     "output_type": "stream",
     "text": [
      "best score:  213.85722355\n",
      "Training complete for FISH with 8 states with time 0.3064113161399291 seconds\n"
     ]
    },
    {
     "name": "stderr",
     "output_type": "stream",
     "text": [
      "c:\\users\\inves\\appdata\\local\\programs\\python\\python35\\lib\\site-packages\\hmmlearn\\base.py:459: RuntimeWarning: divide by zero encountered in log\n",
      "  np.log(self.startprob_),\n",
      "c:\\users\\inves\\appdata\\local\\programs\\python\\python35\\lib\\site-packages\\hmmlearn\\base.py:460: RuntimeWarning: divide by zero encountered in log\n",
      "  np.log(self.transmat_),\n",
      "c:\\users\\inves\\appdata\\local\\programs\\python\\python35\\lib\\site-packages\\hmmlearn\\base.py:468: RuntimeWarning: divide by zero encountered in log\n",
      "  np.log(self.startprob_),\n",
      "c:\\users\\inves\\appdata\\local\\programs\\python\\python35\\lib\\site-packages\\hmmlearn\\base.py:469: RuntimeWarning: divide by zero encountered in log\n",
      "  np.log(self.transmat_),\n",
      "c:\\users\\inves\\appdata\\local\\programs\\python\\python35\\lib\\site-packages\\hmmlearn\\base.py:624: RuntimeWarning: divide by zero encountered in log\n",
      "  np.log(self.transmat_),\n"
     ]
    },
    {
     "name": "stdout",
     "output_type": "stream",
     "text": [
      "best score:  -6.0624130653\n",
      "Training complete for BOOK with 8 states with time 4.687662835387528 seconds\n"
     ]
    },
    {
     "name": "stderr",
     "output_type": "stream",
     "text": [
      "c:\\users\\inves\\appdata\\local\\programs\\python\\python35\\lib\\site-packages\\hmmlearn\\base.py:459: RuntimeWarning: divide by zero encountered in log\n",
      "  np.log(self.startprob_),\n",
      "c:\\users\\inves\\appdata\\local\\programs\\python\\python35\\lib\\site-packages\\hmmlearn\\base.py:460: RuntimeWarning: divide by zero encountered in log\n",
      "  np.log(self.transmat_),\n",
      "c:\\users\\inves\\appdata\\local\\programs\\python\\python35\\lib\\site-packages\\hmmlearn\\base.py:468: RuntimeWarning: divide by zero encountered in log\n",
      "  np.log(self.startprob_),\n",
      "c:\\users\\inves\\appdata\\local\\programs\\python\\python35\\lib\\site-packages\\hmmlearn\\base.py:469: RuntimeWarning: divide by zero encountered in log\n",
      "  np.log(self.transmat_),\n",
      "c:\\users\\inves\\appdata\\local\\programs\\python\\python35\\lib\\site-packages\\hmmlearn\\base.py:624: RuntimeWarning: divide by zero encountered in log\n",
      "  np.log(self.transmat_),\n",
      "c:\\users\\inves\\appdata\\local\\programs\\python\\python35\\lib\\site-packages\\hmmlearn\\hmm.py:251: RuntimeWarning: invalid value encountered in true_divide\n",
      "  / (means_weight + denom))\n",
      "c:\\users\\inves\\appdata\\local\\programs\\python\\python35\\lib\\site-packages\\hmmlearn\\hmm.py:265: RuntimeWarning: invalid value encountered in maximum\n",
      "  (covars_prior + cv_num) / np.maximum(cv_den, 1e-5)\n"
     ]
    },
    {
     "name": "stdout",
     "output_type": "stream",
     "text": [
      "some error with  VEGETABLE\n",
      "some error with  VEGETABLE\n",
      "best score:  80.004348799\n",
      "Training complete for VEGETABLE with 2 states with time 4.112795439843467 seconds\n"
     ]
    },
    {
     "name": "stderr",
     "output_type": "stream",
     "text": [
      "c:\\users\\inves\\appdata\\local\\programs\\python\\python35\\lib\\site-packages\\hmmlearn\\base.py:459: RuntimeWarning: divide by zero encountered in log\n",
      "  np.log(self.startprob_),\n",
      "c:\\users\\inves\\appdata\\local\\programs\\python\\python35\\lib\\site-packages\\hmmlearn\\base.py:460: RuntimeWarning: divide by zero encountered in log\n",
      "  np.log(self.transmat_),\n",
      "c:\\users\\inves\\appdata\\local\\programs\\python\\python35\\lib\\site-packages\\hmmlearn\\base.py:468: RuntimeWarning: divide by zero encountered in log\n",
      "  np.log(self.startprob_),\n",
      "c:\\users\\inves\\appdata\\local\\programs\\python\\python35\\lib\\site-packages\\hmmlearn\\base.py:469: RuntimeWarning: divide by zero encountered in log\n",
      "  np.log(self.transmat_),\n",
      "c:\\users\\inves\\appdata\\local\\programs\\python\\python35\\lib\\site-packages\\hmmlearn\\base.py:624: RuntimeWarning: divide by zero encountered in log\n",
      "  np.log(self.transmat_),\n"
     ]
    },
    {
     "name": "stdout",
     "output_type": "stream",
     "text": [
      "some error with  FUTURE\n",
      "some error with  FUTURE\n",
      "some error with  FUTURE\n",
      "some error with  FUTURE\n",
      "some error with  FUTURE\n",
      "some error with  FUTURE\n",
      "some error with  FUTURE\n",
      "some error with  FUTURE\n",
      "some error with  FUTURE\n",
      "some error with  FUTURE\n",
      "some error with  FUTURE\n",
      "some error with  FUTURE\n",
      "some error with  FUTURE\n",
      "some error with  FUTURE\n",
      "some error with  FUTURE\n",
      "some error with  FUTURE\n",
      "some error with  FUTURE\n",
      "best score:  -21.0385378184\n",
      "Training complete for FUTURE with 7 states with time 3.984837135316411 seconds\n"
     ]
    },
    {
     "name": "stderr",
     "output_type": "stream",
     "text": [
      "c:\\users\\inves\\appdata\\local\\programs\\python\\python35\\lib\\site-packages\\hmmlearn\\base.py:460: RuntimeWarning: divide by zero encountered in log\n",
      "  np.log(self.transmat_),\n",
      "c:\\users\\inves\\appdata\\local\\programs\\python\\python35\\lib\\site-packages\\hmmlearn\\base.py:469: RuntimeWarning: divide by zero encountered in log\n",
      "  np.log(self.transmat_),\n",
      "c:\\users\\inves\\appdata\\local\\programs\\python\\python35\\lib\\site-packages\\hmmlearn\\base.py:624: RuntimeWarning: divide by zero encountered in log\n",
      "  np.log(self.transmat_),\n",
      "c:\\users\\inves\\appdata\\local\\programs\\python\\python35\\lib\\site-packages\\hmmlearn\\base.py:459: RuntimeWarning: divide by zero encountered in log\n",
      "  np.log(self.startprob_),\n",
      "c:\\users\\inves\\appdata\\local\\programs\\python\\python35\\lib\\site-packages\\hmmlearn\\base.py:468: RuntimeWarning: divide by zero encountered in log\n",
      "  np.log(self.startprob_),\n"
     ]
    },
    {
     "name": "stdout",
     "output_type": "stream",
     "text": [
      "best score:  2152.96757772\n",
      "Training complete for JOHN with 9 states with time 42.12399872481001 seconds\n"
     ]
    }
   ],
   "source": [
    "for word in words_to_train:\n",
    "    start = timeit.default_timer()\n",
    "    model = SelectorCV(sequences, Xlengths, word, \n",
    "                    min_n_components=2, max_n_components=15, random_state = 14).select()\n",
    "    end = timeit.default_timer()-start\n",
    "    if model is not None:\n",
    "        print(\"Training complete for {} with {} states with time {} seconds\".format(word, model.n_components, end))\n",
    "    else:\n",
    "        print(\"Training failed for {}\".format(word))"
   ]
  },
  {
   "cell_type": "code",
   "execution_count": 76,
   "metadata": {},
   "outputs": [],
   "source": [
    "# TODO: Implement SelectorBIC in module my_model_selectors.py\n",
    "from my_model_selectors import SelectorBIC\n",
    "\n",
    "training = asl.build_training(features_ground)  # Experiment here with different feature sets defined in part 1\n",
    "sequences = training.get_all_sequences()\n",
    "Xlengths = training.get_all_Xlengths()"
   ]
  },
  {
   "cell_type": "code",
   "execution_count": 79,
   "metadata": {},
   "outputs": [
    {
     "name": "stderr",
     "output_type": "stream",
     "text": [
      "c:\\users\\inves\\appdata\\local\\programs\\python\\python35\\lib\\site-packages\\hmmlearn\\base.py:460: RuntimeWarning: divide by zero encountered in log\n",
      "  np.log(self.transmat_),\n",
      "c:\\users\\inves\\appdata\\local\\programs\\python\\python35\\lib\\site-packages\\hmmlearn\\base.py:469: RuntimeWarning: divide by zero encountered in log\n",
      "  np.log(self.transmat_),\n",
      "c:\\users\\inves\\appdata\\local\\programs\\python\\python35\\lib\\site-packages\\hmmlearn\\base.py:624: RuntimeWarning: divide by zero encountered in log\n",
      "  np.log(self.transmat_),\n",
      "c:\\users\\inves\\appdata\\local\\programs\\python\\python35\\lib\\site-packages\\hmmlearn\\base.py:459: RuntimeWarning: divide by zero encountered in log\n",
      "  np.log(self.startprob_),\n",
      "c:\\users\\inves\\appdata\\local\\programs\\python\\python35\\lib\\site-packages\\hmmlearn\\base.py:468: RuntimeWarning: divide by zero encountered in log\n",
      "  np.log(self.startprob_),\n"
     ]
    },
    {
     "name": "stdout",
     "output_type": "stream",
     "text": [
      "some error with  FISH\n",
      "some error with  FISH\n",
      "some error with  FISH\n",
      "some error with  FISH\n",
      "some error with  FISH\n",
      "some error with  FISH\n",
      "some error with  FISH\n",
      "some error with  FISH\n",
      "some error with  FISH\n",
      "some error with  FISH\n",
      "best score:  -246.546743082\n",
      "Training complete for FISH with 2 states with time 0.27888145027827704 seconds\n"
     ]
    },
    {
     "name": "stderr",
     "output_type": "stream",
     "text": [
      "c:\\users\\inves\\appdata\\local\\programs\\python\\python35\\lib\\site-packages\\hmmlearn\\base.py:460: RuntimeWarning: divide by zero encountered in log\n",
      "  np.log(self.transmat_),\n",
      "c:\\users\\inves\\appdata\\local\\programs\\python\\python35\\lib\\site-packages\\hmmlearn\\base.py:459: RuntimeWarning: divide by zero encountered in log\n",
      "  np.log(self.startprob_),\n",
      "c:\\users\\inves\\appdata\\local\\programs\\python\\python35\\lib\\site-packages\\hmmlearn\\base.py:468: RuntimeWarning: divide by zero encountered in log\n",
      "  np.log(self.startprob_),\n",
      "c:\\users\\inves\\appdata\\local\\programs\\python\\python35\\lib\\site-packages\\hmmlearn\\base.py:469: RuntimeWarning: divide by zero encountered in log\n",
      "  np.log(self.transmat_),\n",
      "c:\\users\\inves\\appdata\\local\\programs\\python\\python35\\lib\\site-packages\\hmmlearn\\base.py:624: RuntimeWarning: divide by zero encountered in log\n",
      "  np.log(self.transmat_),\n"
     ]
    },
    {
     "name": "stdout",
     "output_type": "stream",
     "text": [
      "best score:  3575.92472869\n",
      "Training complete for BOOK with 2 states with time 1.3794423957515392 seconds\n"
     ]
    },
    {
     "name": "stderr",
     "output_type": "stream",
     "text": [
      "c:\\users\\inves\\appdata\\local\\programs\\python\\python35\\lib\\site-packages\\hmmlearn\\base.py:460: RuntimeWarning: divide by zero encountered in log\n",
      "  np.log(self.transmat_),\n",
      "c:\\users\\inves\\appdata\\local\\programs\\python\\python35\\lib\\site-packages\\hmmlearn\\base.py:469: RuntimeWarning: divide by zero encountered in log\n",
      "  np.log(self.transmat_),\n",
      "c:\\users\\inves\\appdata\\local\\programs\\python\\python35\\lib\\site-packages\\hmmlearn\\base.py:624: RuntimeWarning: divide by zero encountered in log\n",
      "  np.log(self.transmat_),\n",
      "c:\\users\\inves\\appdata\\local\\programs\\python\\python35\\lib\\site-packages\\hmmlearn\\base.py:459: RuntimeWarning: divide by zero encountered in log\n",
      "  np.log(self.startprob_),\n",
      "c:\\users\\inves\\appdata\\local\\programs\\python\\python35\\lib\\site-packages\\hmmlearn\\base.py:468: RuntimeWarning: divide by zero encountered in log\n",
      "  np.log(self.startprob_),\n"
     ]
    },
    {
     "name": "stdout",
     "output_type": "stream",
     "text": [
      "best score:  190.256808363\n",
      "Training complete for VEGETABLE with 2 states with time 0.4959263923155959 seconds\n"
     ]
    },
    {
     "name": "stderr",
     "output_type": "stream",
     "text": [
      "c:\\users\\inves\\appdata\\local\\programs\\python\\python35\\lib\\site-packages\\hmmlearn\\base.py:460: RuntimeWarning: divide by zero encountered in log\n",
      "  np.log(self.transmat_),\n",
      "c:\\users\\inves\\appdata\\local\\programs\\python\\python35\\lib\\site-packages\\hmmlearn\\base.py:469: RuntimeWarning: divide by zero encountered in log\n",
      "  np.log(self.transmat_),\n",
      "c:\\users\\inves\\appdata\\local\\programs\\python\\python35\\lib\\site-packages\\hmmlearn\\base.py:624: RuntimeWarning: divide by zero encountered in log\n",
      "  np.log(self.transmat_),\n",
      "c:\\users\\inves\\appdata\\local\\programs\\python\\python35\\lib\\site-packages\\hmmlearn\\base.py:459: RuntimeWarning: divide by zero encountered in log\n",
      "  np.log(self.startprob_),\n",
      "c:\\users\\inves\\appdata\\local\\programs\\python\\python35\\lib\\site-packages\\hmmlearn\\base.py:468: RuntimeWarning: divide by zero encountered in log\n",
      "  np.log(self.startprob_),\n"
     ]
    },
    {
     "name": "stdout",
     "output_type": "stream",
     "text": [
      "best score:  2836.28414431\n",
      "Training complete for FUTURE with 2 states with time 1.4892085077153752 seconds\n"
     ]
    },
    {
     "name": "stderr",
     "output_type": "stream",
     "text": [
      "c:\\users\\inves\\appdata\\local\\programs\\python\\python35\\lib\\site-packages\\hmmlearn\\base.py:460: RuntimeWarning: divide by zero encountered in log\n",
      "  np.log(self.transmat_),\n",
      "c:\\users\\inves\\appdata\\local\\programs\\python\\python35\\lib\\site-packages\\hmmlearn\\base.py:469: RuntimeWarning: divide by zero encountered in log\n",
      "  np.log(self.transmat_),\n",
      "c:\\users\\inves\\appdata\\local\\programs\\python\\python35\\lib\\site-packages\\hmmlearn\\base.py:624: RuntimeWarning: divide by zero encountered in log\n",
      "  np.log(self.transmat_),\n"
     ]
    },
    {
     "name": "stdout",
     "output_type": "stream",
     "text": [
      "best score:  30747.991989\n",
      "Training complete for JOHN with 2 states with time 12.487837167471298 seconds\n"
     ]
    }
   ],
   "source": [
    "for word in words_to_train:\n",
    "    start = timeit.default_timer()\n",
    "    model = SelectorBIC(sequences, Xlengths, word, \n",
    "                    min_n_components=2, max_n_components=15, random_state = 14).select()\n",
    "    end = timeit.default_timer()-start\n",
    "    if model is not None:\n",
    "        print(\"Training complete for {} with {} states with time {} seconds\".format(word, model.n_components, end))\n",
    "    else:\n",
    "        print(\"Training failed for {}\".format(word))"
   ]
  },
  {
   "cell_type": "code",
   "execution_count": null,
   "metadata": {},
   "outputs": [],
   "source": [
    "# TODO: Implement SelectorDIC in module my_model_selectors.py\n",
    "from my_model_selectors import SelectorDIC\n",
    "\n",
    "training = asl.build_training(features_ground)  # Experiment here with different feature sets defined in part 1\n",
    "sequences = training.get_all_sequences()\n",
    "Xlengths = training.get_all_Xlengths()\n",
    "for word in words_to_train:\n",
    "    start = timeit.default_timer()\n",
    "    model = SelectorDIC(sequences, Xlengths, word, \n",
    "                    min_n_components=2, max_n_components=15, random_state = 14).select()\n",
    "    end = timeit.default_timer()-start\n",
    "    if model is not None:\n",
    "        print(\"Training complete for {} with {} states with time {} seconds\".format(word, model.n_components, end))\n",
    "    else:\n",
    "        print(\"Training failed for {}\".format(word))"
   ]
  },
  {
   "cell_type": "markdown",
   "metadata": {},
   "source": [
    "**Question 2:**  Compare and contrast the possible advantages and disadvantages of the various model selectors implemented.\n",
    "\n",
    "**Answer 2:**"
   ]
  },
  {
   "cell_type": "markdown",
   "metadata": {},
   "source": [
    "<a id='part2_test'></a>\n",
    "### Model Selector Unit Testing\n",
    "Run the following unit tests as a sanity check on the implemented model selectors.  The test simply looks for valid interfaces  but is not exhaustive. However, the project should not be submitted if these tests don't pass."
   ]
  },
  {
   "cell_type": "code",
   "execution_count": null,
   "metadata": {},
   "outputs": [],
   "source": [
    "from asl_test_model_selectors import TestSelectors\n",
    "suite = unittest.TestLoader().loadTestsFromModule(TestSelectors())\n",
    "unittest.TextTestRunner().run(suite)"
   ]
  },
  {
   "cell_type": "markdown",
   "metadata": {},
   "source": [
    "<a id='part3_tutorial'></a>\n",
    "## PART 3: Recognizer\n",
    "The objective of this section is to \"put it all together\".  Using the four feature sets created and the three model selectors, you will experiment with the models and present your results.  Instead of training only five specific words as in the previous section, train the entire set with a feature set and model selector strategy.  \n",
    "### Recognizer Tutorial\n",
    "##### Train the full training set\n",
    "The following example trains the entire set with the example `features_ground` and `SelectorConstant` features and model selector.  Use this pattern for you experimentation and final submission cells.\n",
    "\n"
   ]
  },
  {
   "cell_type": "code",
   "execution_count": null,
   "metadata": {},
   "outputs": [],
   "source": [
    "from my_model_selectors import SelectorConstant\n",
    "\n",
    "def train_all_words(features, model_selector):\n",
    "    training = asl.build_training(features)  # Experiment here with different feature sets defined in part 1\n",
    "    sequences = training.get_all_sequences()\n",
    "    Xlengths = training.get_all_Xlengths()\n",
    "    model_dict = {}\n",
    "    for word in training.words:\n",
    "        model = model_selector(sequences, Xlengths, word, \n",
    "                        n_constant=3).select()\n",
    "        model_dict[word]=model\n",
    "    return model_dict\n",
    "\n",
    "models = train_all_words(features_ground, SelectorConstant)\n",
    "print(\"Number of word models returned = {}\".format(len(models)))"
   ]
  },
  {
   "cell_type": "markdown",
   "metadata": {},
   "source": [
    "##### Load the test set\n",
    "The `build_test` method in `ASLdb` is similar to the `build_training` method already presented, but there are a few differences:\n",
    "- the object is type `SinglesData` \n",
    "- the internal dictionary keys are the index of the test word rather than the word itself\n",
    "- the getter methods are `get_all_sequences`, `get_all_Xlengths`, `get_item_sequences` and `get_item_Xlengths`"
   ]
  },
  {
   "cell_type": "code",
   "execution_count": null,
   "metadata": {},
   "outputs": [],
   "source": [
    "test_set = asl.build_test(features_ground)\n",
    "print(\"Number of test set items: {}\".format(test_set.num_items))\n",
    "print(\"Number of test set sentences: {}\".format(len(test_set.sentences_index)))"
   ]
  },
  {
   "cell_type": "markdown",
   "metadata": {},
   "source": [
    "<a id='part3_submission'></a>\n",
    "### Recognizer Implementation Submission\n",
    "For the final project submission, students must implement a recognizer following guidance in the `my_recognizer.py` module.  Experiment with the four feature sets and the three model selection methods (that's 12 possible combinations). You can add and remove cells for experimentation or run the recognizers locally in some other way during your experiments, but retain the results for your discussion.  For submission, you will provide code cells of **only three** interesting combinations for your discussion (see questions below). At least one of these should produce a word error rate of less than 60%, i.e. WER < 0.60 . \n",
    "\n",
    "**Tip:** The hmmlearn library may not be able to train or score all models.  Implement try/except contructs as necessary to eliminate non-viable models from consideration."
   ]
  },
  {
   "cell_type": "code",
   "execution_count": null,
   "metadata": {},
   "outputs": [],
   "source": [
    "# TODO implement the recognize method in my_recognizer\n",
    "from my_recognizer import recognize\n",
    "from asl_utils import show_errors"
   ]
  },
  {
   "cell_type": "code",
   "execution_count": null,
   "metadata": {},
   "outputs": [],
   "source": [
    "# TODO Choose a feature set and model selector\n",
    "features = features_ground # change as needed\n",
    "model_selector = SelectorConstant # change as needed\n",
    "\n",
    "# TODO Recognize the test set and display the result with the show_errors method\n",
    "models = train_all_words(features, model_selector)\n",
    "test_set = asl.build_test(features)\n",
    "probabilities, guesses = recognize(models, test_set)\n",
    "show_errors(guesses, test_set)"
   ]
  },
  {
   "cell_type": "code",
   "execution_count": null,
   "metadata": {},
   "outputs": [],
   "source": [
    "# TODO Choose a feature set and model selector\n",
    "# TODO Recognize the test set and display the result with the show_errors method"
   ]
  },
  {
   "cell_type": "code",
   "execution_count": null,
   "metadata": {},
   "outputs": [],
   "source": [
    "# TODO Choose a feature set and model selector\n",
    "# TODO Recognize the test set and display the result with the show_errors method"
   ]
  },
  {
   "cell_type": "markdown",
   "metadata": {},
   "source": [
    "**Question 3:**  Summarize the error results from three combinations of features and model selectors.  What was the \"best\" combination and why?  What additional information might we use to improve our WER?  For more insight on improving WER, take a look at the introduction to Part 4.\n",
    "\n",
    "**Answer 3:**"
   ]
  },
  {
   "cell_type": "markdown",
   "metadata": {},
   "source": [
    "<a id='part3_test'></a>\n",
    "### Recognizer Unit Tests\n",
    "Run the following unit tests as a sanity check on the defined recognizer.  The test simply looks for some valid values but is not exhaustive. However, the project should not be submitted if these tests don't pass."
   ]
  },
  {
   "cell_type": "code",
   "execution_count": null,
   "metadata": {},
   "outputs": [],
   "source": [
    "from asl_test_recognizer import TestRecognize\n",
    "suite = unittest.TestLoader().loadTestsFromModule(TestRecognize())\n",
    "unittest.TextTestRunner().run(suite)"
   ]
  },
  {
   "cell_type": "markdown",
   "metadata": {},
   "source": [
    "<a id='part4_info'></a>\n",
    "## PART 4: (OPTIONAL)  Improve the WER with Language Models\n",
    "We've squeezed just about as much as we can out of the model and still only get about 50% of the words right! Surely we can do better than that.  Probability to the rescue again in the form of [statistical language models (SLM)](https://en.wikipedia.org/wiki/Language_model).  The basic idea is that each word has some probability of occurrence within the set, and some probability that it is adjacent to specific other words. We can use that additional information to make better choices.\n",
    "\n",
    "##### Additional reading and resources\n",
    "- [Introduction to N-grams (Stanford Jurafsky slides)](https://web.stanford.edu/class/cs124/lec/languagemodeling.pdf)\n",
    "- [Speech Recognition Techniques for a Sign Language Recognition System, Philippe Dreuw et al](https://www-i6.informatik.rwth-aachen.de/publications/download/154/Dreuw--2007.pdf) see the improved results of applying LM on *this* data!\n",
    "- [SLM data for *this* ASL dataset](ftp://wasserstoff.informatik.rwth-aachen.de/pub/rwth-boston-104/lm/)\n",
    "\n",
    "##### Optional challenge\n",
    "The recognizer you implemented in Part 3 is equivalent to a \"0-gram\" SLM.  Improve the WER with the SLM data provided with the data set in the link above using \"1-gram\", \"2-gram\", and/or \"3-gram\" statistics. The `probabilities` data you've already calculated will be useful and can be turned into a pandas DataFrame if desired (see next cell).  \n",
    "Good luck!  Share your results with the class!"
   ]
  },
  {
   "cell_type": "code",
   "execution_count": null,
   "metadata": {
    "collapsed": true
   },
   "outputs": [],
   "source": [
    "# create a DataFrame of log likelihoods for the test word items\n",
    "df_probs = pd.DataFrame(data=probabilities)\n",
    "df_probs.head()"
   ]
  }
 ],
 "metadata": {
  "anaconda-cloud": {},
  "kernelspec": {
   "display_name": "Python 3",
   "language": "python",
   "name": "python3"
  },
  "language_info": {
   "codemirror_mode": {
    "name": "ipython",
    "version": 3
   },
   "file_extension": ".py",
   "mimetype": "text/x-python",
   "name": "python",
   "nbconvert_exporter": "python",
   "pygments_lexer": "ipython3",
   "version": "3.5.3"
  },
  "nbpresent": {
   "slides": {
    "0a2d4faf-9fb8-4cee-853b-ed68b90f3f8a": {
     "id": "0a2d4faf-9fb8-4cee-853b-ed68b90f3f8a",
     "prev": null,
     "regions": {
      "3fb9ce83-fbb2-4995-832a-f8f400734ad3": {
       "attrs": {
        "height": 0.8,
        "width": 0.8,
        "x": 0.1,
        "y": 0.1
       },
       "content": {
        "cell": "1dbb9346-179b-4835-b430-6369d88f1a1b",
        "part": "whole"
       },
       "id": "3fb9ce83-fbb2-4995-832a-f8f400734ad3"
      }
     }
    },
    "1519a4fa-1588-4644-98de-9c43bf0aceb5": {
     "id": "1519a4fa-1588-4644-98de-9c43bf0aceb5",
     "prev": "8a712017-49b7-449f-8264-43a032ace902",
     "regions": {
      "29546121-ed11-44b7-8144-0c44e874098f": {
       "attrs": {
        "height": 0.8,
        "width": 0.8,
        "x": 0.1,
        "y": 0.1
       },
       "content": {
        "cell": "365590a4-6963-4812-a1cf-688f7b6bb9ff",
        "part": "whole"
       },
       "id": "29546121-ed11-44b7-8144-0c44e874098f"
      }
     }
    },
    "176eaccb-15dd-455d-bf07-504213e7aa01": {
     "id": "176eaccb-15dd-455d-bf07-504213e7aa01",
     "prev": "de6b30f4-2463-4901-92ed-aabad78e5e0f",
     "regions": {
      "1542aa9e-dc55-4b90-adef-bf5181872b42": {
       "attrs": {
        "height": 0.8,
        "width": 0.8,
        "x": 0.1,
        "y": 0.1
       },
       "content": {
        "cell": "5c242050-c1f7-4b3b-8103-2ea9d71a40dc",
        "part": "whole"
       },
       "id": "1542aa9e-dc55-4b90-adef-bf5181872b42"
      }
     }
    },
    "19091b36-b0e7-49b1-b501-ec05937e0da9": {
     "id": "19091b36-b0e7-49b1-b501-ec05937e0da9",
     "prev": "1983c02e-fb99-4c05-a728-e0c0ad7c06d8",
     "regions": {
      "6529a31c-8d45-425c-b1d7-d0ac6fca6a32": {
       "attrs": {
        "height": 0.8,
        "width": 0.8,
        "x": 0.1,
        "y": 0.1
       },
       "content": {
        "cell": "e766909d-9421-4aaf-9fb1-bc90d27e49e3",
        "part": "whole"
       },
       "id": "6529a31c-8d45-425c-b1d7-d0ac6fca6a32"
      }
     }
    },
    "1983c02e-fb99-4c05-a728-e0c0ad7c06d8": {
     "id": "1983c02e-fb99-4c05-a728-e0c0ad7c06d8",
     "prev": "176eaccb-15dd-455d-bf07-504213e7aa01",
     "regions": {
      "1c4e605d-7f22-4f30-b3fb-74b2937e7a4a": {
       "attrs": {
        "height": 0.8,
        "width": 0.8,
        "x": 0.1,
        "y": 0.1
       },
       "content": {
        "cell": "4d217204-e5c0-4568-bd30-12c2e41b681d",
        "part": "whole"
       },
       "id": "1c4e605d-7f22-4f30-b3fb-74b2937e7a4a"
      }
     }
    },
    "212b111f-4527-459c-8297-1db5580ee5c9": {
     "id": "212b111f-4527-459c-8297-1db5580ee5c9",
     "prev": "76898529-e49e-4663-8d02-8261dfe1d94b",
     "regions": {
      "2e4bd280-3cd6-47d0-9c81-17737b24053b": {
       "attrs": {
        "height": 0.8,
        "width": 0.8,
        "x": 0.1,
        "y": 0.1
       },
       "content": {
        "cell": "0c316996-9933-4b3d-82ec-259518dc8bc9",
        "part": "whole"
       },
       "id": "2e4bd280-3cd6-47d0-9c81-17737b24053b"
      }
     }
    },
    "23a7337f-a0cf-4ed4-baa9-ec06bfdc0579": {
     "id": "23a7337f-a0cf-4ed4-baa9-ec06bfdc0579",
     "prev": "e76e9a02-54c1-4ec9-80fb-c611ed398122",
     "regions": {
      "b5721d20-d6f8-4ddb-a5aa-eb16f0cc8893": {
       "attrs": {
        "height": 0.8,
        "width": 0.8,
        "x": 0.1,
        "y": 0.1
       },
       "content": {
        "cell": "313015a2-b5a9-4136-a8ea-5d011e47d840",
        "part": "whole"
       },
       "id": "b5721d20-d6f8-4ddb-a5aa-eb16f0cc8893"
      }
     }
    },
    "732f1952-ee54-46fb-8067-099512824296": {
     "id": "732f1952-ee54-46fb-8067-099512824296",
     "prev": "0a2d4faf-9fb8-4cee-853b-ed68b90f3f8a",
     "regions": {
      "f31d4597-08ad-4c46-ad52-4bd2d775c624": {
       "attrs": {
        "height": 0.8,
        "width": 0.8,
        "x": 0.1,
        "y": 0.1
       },
       "content": {
        "cell": "aadfec52-27ca-4541-8920-fa9253d51827",
        "part": "whole"
       },
       "id": "f31d4597-08ad-4c46-ad52-4bd2d775c624"
      }
     }
    },
    "76898529-e49e-4663-8d02-8261dfe1d94b": {
     "id": "76898529-e49e-4663-8d02-8261dfe1d94b",
     "prev": "19091b36-b0e7-49b1-b501-ec05937e0da9",
     "regions": {
      "ec1746fc-aec9-4a7c-8225-9e9ac8d45889": {
       "attrs": {
        "height": 0.8,
        "width": 0.8,
        "x": 0.1,
        "y": 0.1
       },
       "content": {
        "cell": "b3e539be-84e2-49ce-a183-31cfc5c7ce7c",
        "part": "whole"
       },
       "id": "ec1746fc-aec9-4a7c-8225-9e9ac8d45889"
      }
     }
    },
    "8a712017-49b7-449f-8264-43a032ace902": {
     "id": "8a712017-49b7-449f-8264-43a032ace902",
     "prev": "bed9e696-630e-4747-be1c-bc3737ba992f",
     "regions": {
      "1faab517-cd16-4c63-bb01-a67246749d7a": {
       "attrs": {
        "height": 0.8,
        "width": 0.8,
        "x": 0.1,
        "y": 0.1
       },
       "content": {
        "cell": "3f14ddf0-4145-4687-9c33-712c3c32520f",
        "part": "whole"
       },
       "id": "1faab517-cd16-4c63-bb01-a67246749d7a"
      }
     }
    },
    "90af992d-eb6d-4496-b2d2-6aa9a95b6a61": {
     "id": "90af992d-eb6d-4496-b2d2-6aa9a95b6a61",
     "prev": "732f1952-ee54-46fb-8067-099512824296",
     "regions": {
      "4f448bec-5be9-4553-88ae-e35ed7612f25": {
       "attrs": {
        "height": 0.8,
        "width": 0.8,
        "x": 0.1,
        "y": 0.1
       },
       "content": {
        "cell": "c445fbfb-b8ab-4e9a-8d13-12231a1c588f",
        "part": "whole"
       },
       "id": "4f448bec-5be9-4553-88ae-e35ed7612f25"
      }
     }
    },
    "bed9e696-630e-4747-be1c-bc3737ba992f": {
     "id": "bed9e696-630e-4747-be1c-bc3737ba992f",
     "prev": "23a7337f-a0cf-4ed4-baa9-ec06bfdc0579",
     "regions": {
      "ac1513f0-404f-492b-8b42-0313e9a753b0": {
       "attrs": {
        "height": 0.8,
        "width": 0.8,
        "x": 0.1,
        "y": 0.1
       },
       "content": {
        "cell": "18dd2eee-8b6c-4a5e-9539-132d00a7c7e1",
        "part": "whole"
       },
       "id": "ac1513f0-404f-492b-8b42-0313e9a753b0"
      }
     }
    },
    "de6b30f4-2463-4901-92ed-aabad78e5e0f": {
     "id": "de6b30f4-2463-4901-92ed-aabad78e5e0f",
     "prev": "e36b4639-be8c-46f7-a8c9-bcfb134f9fd0",
     "regions": {
      "55ec36e0-362f-4fd3-8060-7cee056039aa": {
       "attrs": {
        "height": 0.8,
        "width": 0.8,
        "x": 0.1,
        "y": 0.1
       },
       "content": {
        "cell": "c3cf461e-4c9e-4dec-99d2-07bfa79cbe23",
        "part": "whole"
       },
       "id": "55ec36e0-362f-4fd3-8060-7cee056039aa"
      }
     }
    },
    "e36b4639-be8c-46f7-a8c9-bcfb134f9fd0": {
     "id": "e36b4639-be8c-46f7-a8c9-bcfb134f9fd0",
     "prev": "1519a4fa-1588-4644-98de-9c43bf0aceb5",
     "regions": {
      "4c1e9714-9ba0-45fd-8a2f-ef80a5c85c2e": {
       "attrs": {
        "height": 0.8,
        "width": 0.8,
        "x": 0.1,
        "y": 0.1
       },
       "content": {
        "cell": "6534d4dc-125f-47e6-a022-cf1e0d277174",
        "part": "whole"
       },
       "id": "4c1e9714-9ba0-45fd-8a2f-ef80a5c85c2e"
      }
     }
    },
    "e76e9a02-54c1-4ec9-80fb-c611ed398122": {
     "id": "e76e9a02-54c1-4ec9-80fb-c611ed398122",
     "prev": "90af992d-eb6d-4496-b2d2-6aa9a95b6a61",
     "regions": {
      "9491b84d-193b-40ff-9321-d21eb1ba88d4": {
       "attrs": {
        "height": 0.8,
        "width": 0.8,
        "x": 0.1,
        "y": 0.1
       },
       "content": {
        "cell": "b64ec10e-fa9d-4f3f-907f-6799611ed6b1",
        "part": "whole"
       },
       "id": "9491b84d-193b-40ff-9321-d21eb1ba88d4"
      }
     }
    }
   },
   "themes": {}
  }
 },
 "nbformat": 4,
 "nbformat_minor": 1
}
